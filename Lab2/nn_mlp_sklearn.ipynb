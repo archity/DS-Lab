{
 "cells": [
  {
   "cell_type": "code",
   "execution_count": null,
   "metadata": {
    "collapsed": true
   },
   "outputs": [],
   "source": []
  },
  {
   "cell_type": "markdown",
   "source": [
    " # Part I: Multi-layer Perceptron with sklearn"
   ],
   "metadata": {
    "collapsed": false
   }
  },
  {
   "cell_type": "markdown",
   "source": [
    "## 1 Learning Boolean Operators"
   ],
   "metadata": {
    "collapsed": false
   }
  },
  {
   "cell_type": "markdown",
   "source": [
    "### 1. Classifier for AND operator"
   ],
   "metadata": {
    "collapsed": false
   }
  },
  {
   "cell_type": "code",
   "execution_count": 1,
   "outputs": [
    {
     "data": {
      "text/plain": "array([1])"
     },
     "metadata": {},
     "output_type": "execute_result",
     "execution_count": 1
    }
   ],
   "source": [
    "#import classifier as classifier\n",
    "import numpy as np\n",
    "from sklearn.neural_network import MLPClassifier \n",
    "X = [ [0., 0.], [0., 1.], [1., 0.], [1., 1.] ] # Inputs\n",
    "y = [0, 0, 0, 1] # Outputs\n",
    "\n",
    "X_test = [[1., 1.]]\n",
    "\n",
    "classifier = MLPClassifier(hidden_layer_sizes=(), activation=\"identity\", solver='lbfgs')\n",
    "classifier.fit(X, y)\n",
    "\n",
    "classifier.predict(X_test)"
   ],
   "metadata": {
    "collapsed": false,
    "pycharm": {
     "name": "#%%\n",
     "is_executing": false
    }
   }
  },
  {
   "cell_type": "markdown",
   "source": [
    "### 2. Classifier for OR operator"
   ],
   "metadata": {
    "collapsed": false
   }
  },
  {
   "cell_type": "code",
   "execution_count": 6,
   "outputs": [
    {
     "data": {
      "text/plain": "array([1])"
     },
     "metadata": {},
     "output_type": "execute_result",
     "execution_count": 6
    }
   ],
   "source": [
    "X = [ [0., 0.], [0., 1.], [1., 0.], [1., 1.] ] # Inputs\n",
    "y = [0, 1, 1, 1] # Outputs\n",
    "\n",
    "X_test = [[1., 0.]]\n",
    "\n",
    "classifier = MLPClassifier(hidden_layer_sizes=(), activation=\"identity\", solver='lbfgs')\n",
    "classifier.fit(X, y)\n",
    "\n",
    "classifier.predict(X_test)"
   ],
   "metadata": {
    "collapsed": false,
    "pycharm": {
     "name": "#%%\n",
     "is_executing": false
    }
   }
  },
  {
   "cell_type": "markdown",
   "source": [
    "### 2. Classifier for XOR operator"
   ],
   "metadata": {
    "collapsed": false
   }
  },
  {
   "cell_type": "markdown",
   "source": [
    "#### (a)"
   ],
   "metadata": {
    "collapsed": false
   }
  },
  {
   "cell_type": "code",
   "execution_count": 10,
   "outputs": [
    {
     "data": {
      "text/plain": "array([1])"
     },
     "metadata": {},
     "output_type": "execute_result",
     "execution_count": 10
    }
   ],
   "source": [
    "X = [ [0., 0.], [0., 1.], [1., 0.], [1., 1.] ] # Inputs\n",
    "y = [0, 1, 1, 0] # Outputs\n",
    "\n",
    "X_test = [[1., 1.]]\n",
    "\n",
    "classifier = MLPClassifier(hidden_layer_sizes=(), activation=\"identity\", solver='lbfgs')\n",
    "classifier.fit(X, y)\n",
    "\n",
    "classifier.predict(X_test)"
   ],
   "metadata": {
    "collapsed": false,
    "pycharm": {
     "name": "#%%\n",
     "is_executing": false
    }
   }
  },
  {
   "cell_type": "markdown",
   "source": [
    "#### (b)"
   ],
   "metadata": {
    "collapsed": false,
    "pycharm": {
     "name": "#%% md\n"
    }
   }
  },
  {
   "cell_type": "code",
   "execution_count": 14,
   "outputs": [
    {
     "data": {
      "text/plain": "array([1])"
     },
     "metadata": {},
     "output_type": "execute_result",
     "execution_count": 14
    }
   ],
   "source": [
    "X = [ [0., 0.], [0., 1.], [1., 0.], [1., 1.] ] # Inputs\n",
    "y = [0, 1, 1, 0] # Outputs\n",
    "\n",
    "X_test = [[1., 1.]]\n",
    "\n",
    "classifier = MLPClassifier(hidden_layer_sizes=(4, 4), activation=\"identity\", solver='lbfgs')\n",
    "classifier.fit(X, y)\n",
    "\n",
    "classifier.predict(X_test)"
   ],
   "metadata": {
    "collapsed": false,
    "pycharm": {
     "name": "#%%\n",
     "is_executing": false
    }
   }
  },
  {
   "cell_type": "markdown",
   "source": [
    "#### (c)"
   ],
   "metadata": {
    "collapsed": false,
    "pycharm": {
     "name": "#%% md\n"
    }
   }
  },
  {
   "cell_type": "code",
   "execution_count": 28,
   "outputs": [
    {
     "data": {
      "text/plain": "array([0])"
     },
     "metadata": {},
     "output_type": "execute_result",
     "execution_count": 28
    }
   ],
   "source": [
    "X = [ [0., 0.], [0., 1.], [1., 0.], [1., 1.] ] # Inputs\n",
    "y = [0, 1, 1, 0] # Outputs\n",
    "\n",
    "X_test = [[1., 1.]]\n",
    "\n",
    "classifier = MLPClassifier(hidden_layer_sizes=(4, 4),\n",
    "                           activation=\"tanh\", solver='lbfgs', max_iter=1000)\n",
    "classifier.fit(X, y)\n",
    "\n",
    "classifier.predict(X_test)\n"
   ],
   "metadata": {
    "collapsed": false,
    "pycharm": {
     "name": "#%%\n",
     "is_executing": false
    }
   }
  },
  {
   "cell_type": "markdown",
   "source": [
    "## 2 Image Classification"
   ],
   "metadata": {
    "collapsed": false
   }
  },
  {
   "cell_type": "code",
   "execution_count": 320,
   "outputs": [
    {
     "name": "stdout",
     "text": [
      "(1617, 64)\n"
     ],
     "output_type": "stream"
    }
   ],
   "source": [
    "from sklearn.datasets import load_digits\n",
    "from sklearn.model_selection import train_test_split\n",
    "\n",
    "dataset = load_digits()\n",
    "X = dataset.data # inputs\n",
    "y = dataset.target # Associated outputs\n",
    "\n",
    "train_X, test_X, train_y, test_y = train_test_split(X, y,\n",
    "                                                    test_size = 0.1,\n",
    "                                                    random_state=3)\n",
    "print(train_X.shape)"
   ],
   "metadata": {
    "collapsed": false,
    "pycharm": {
     "name": "#%%\n",
     "is_executing": false
    }
   }
  },
  {
   "cell_type": "code",
   "execution_count": 344,
   "outputs": [
    {
     "name": "stdout",
     "text": [
      " Accuracy:  0.9666666666666667\n"
     ],
     "output_type": "stream"
    }
   ],
   "source": [
    "classifier = MLPClassifier(hidden_layer_sizes=(),\n",
    "                           activation=\"identity\",\n",
    "                           solver='sgd', tol=1e-10, max_iter=1000000)\n",
    "classifier.fit(train_X, train_y)\n",
    "classifier.predict(test_X)\n",
    "\n",
    "from sklearn.metrics import accuracy_score\n",
    "\n",
    "test_y_pred = classifier.predict(test_X) # Predicted results\n",
    "print(\" Accuracy: \", accuracy_score(test_y, test_y_pred ))"
   ],
   "metadata": {
    "collapsed": false,
    "pycharm": {
     "name": "#%%\n",
     "is_executing": false
    }
   }
  },
  {
   "cell_type": "markdown",
   "source": [
    "| Experiment No. | Hidden Layers | Activation | Solver | Iterations |   Accuracy   |\n",
    "|:--------------:|:-------------:|:----------:|:------:|:----------:|:------------:|\n",
    "|        1       |       0       |  identity  |  lbfgs |    1000    |  [0.93, 1.0] |\n",
    "|        2       |       0       |    tanh    |  lbfgs |    1000    | [0.94, 0.97] |\n",
    "|        3       |       0       |  logistic  |  lbfgs |    1000    |     0.94     |\n",
    "|        4       |       0       |    reLU    |  lbfgs |    1000    | [0.93, 0.97] |\n"
   ],
   "metadata": {
    "collapsed": false,
    "pycharm": {
     "name": "#%% md\n"
    }
   }
  },
  {
   "cell_type": "markdown",
   "source": [
    "---"
   ],
   "metadata": {
    "collapsed": false,
    "pycharm": {
     "name": "#%% md\n"
    }
   }
  },
  {
   "cell_type": "markdown",
   "source": [
    "# Part II: PyTorch and CNN"
   ],
   "metadata": {
    "collapsed": false
   }
  },
  {
   "cell_type": "markdown",
   "source": [
    "## 1. PyTorch Tensor Basics"
   ],
   "metadata": {
    "collapsed": false,
    "pycharm": {
     "name": "#%% md\n"
    }
   }
  },
  {
   "cell_type": "code",
   "execution_count": 4,
   "outputs": [
    {
     "name": "stdout",
     "text": [
      "tensor([[1, 2],\n",
      "        [3, 4]])\n"
     ],
     "output_type": "stream"
    }
   ],
   "source": [
    "import torch\n",
    "data = [[1, 2],[3, 4]]\n",
    "x_data = torch.tensor(data)\n",
    "\n",
    "np_array = np.array(data)\n",
    "x_np = torch.from_numpy(np_array)\n",
    "\n",
    "print(x_data)"
   ],
   "metadata": {
    "collapsed": false,
    "pycharm": {
     "name": "#%%\n",
     "is_executing": false
    }
   }
  },
  {
   "cell_type": "code",
   "execution_count": 12,
   "outputs": [
    {
     "name": "stdout",
     "text": [
      "tensor([[3., 3., 3., 3.],\n",
      "        [3., 3., 3., 3.],\n",
      "        [3., 3., 3., 3.],\n",
      "        [3., 3., 3., 3.]])\n",
      "tensor([[4., 4., 4., 4.],\n",
      "        [4., 4., 4., 4.],\n",
      "        [4., 4., 4., 4.],\n",
      "        [4., 4., 4., 4.]])\n"
     ],
     "output_type": "stream"
    }
   ],
   "source": [
    "# 4X4 tensor matrix\n",
    "tensor = torch.ones(4, 4)\n",
    "tensor = tensor + 2\n",
    "\n",
    "# Add 1 to each element\n",
    "tensor2 = tensor + 1\n",
    "\n",
    "print(tensor)\n",
    "print(tensor2)"
   ],
   "metadata": {
    "collapsed": false,
    "pycharm": {
     "name": "#%%\n",
     "is_executing": false
    }
   }
  },
  {
   "cell_type": "code",
   "execution_count": 13,
   "outputs": [
    {
     "data": {
      "text/plain": "tensor([[12., 12., 12., 12.],\n        [12., 12., 12., 12.],\n        [12., 12., 12., 12.],\n        [12., 12., 12., 12.]])"
     },
     "metadata": {},
     "output_type": "execute_result",
     "execution_count": 13
    }
   ],
   "source": [
    "# tensor multiplication\n",
    "tensor * tensor2"
   ],
   "metadata": {
    "collapsed": false,
    "pycharm": {
     "name": "#%%\n",
     "is_executing": false
    }
   }
  },
  {
   "cell_type": "markdown",
   "source": [
    "## 2. Torch Autograd"
   ],
   "metadata": {
    "collapsed": false,
    "pycharm": {
     "name": "#%% md\n"
    }
   }
  },
  {
   "cell_type": "markdown",
   "source": [
    "Say, we want to compute the derivative of the following equation:\n",
    "\n",
    "$Q = 3a^3 - b^2$\n",
    "\n",
    "We know that\n",
    "\n",
    "\\frac{\\partial Q}{\\partial a} = 9a^2\n",
    "\n",
    "and\n",
    "\n",
    "\\frac{\\partial Q}{\\partial b} = -2b"
   ],
   "metadata": {
    "collapsed": false,
    "pycharm": {
     "name": "#%% md\n",
     "is_executing": false
    }
   }
  },
  {
   "cell_type": "code",
   "execution_count": 27,
   "outputs": [
    {
     "name": "stdout",
     "text": [
      "tensor([2., 3.], requires_grad=True)\n",
      "tensor([6., 4.], requires_grad=True)\n"
     ],
     "output_type": "stream"
    }
   ],
   "source": [
    "a = torch.tensor([2., 3.], requires_grad=True)\n",
    "b = torch.tensor([6., 4.], requires_grad=True)\n",
    "\n",
    "print(a)\n",
    "print(b)\n",
    "\n",
    "Q = 3*a**3 - b**2"
   ],
   "metadata": {
    "collapsed": false,
    "pycharm": {
     "name": "#%%\n",
     "is_executing": false
    }
   }
  },
  {
   "cell_type": "code",
   "execution_count": 31,
   "outputs": [
    {
     "name": "stdout",
     "text": [
      "Gradient of Q wrt a: tensor([144., 324.])\n",
      "Gradient of Q wrt a: tensor([-48., -32.])\n"
     ],
     "output_type": "stream"
    }
   ],
   "source": [
    "# Gradient of Q wrt itself = 1\n",
    "external_grad = torch.tensor([1., 1.])\n",
    "\n",
    "Q.backward(gradient=external_grad, retain_graph=True)\n",
    "\n",
    "print(\"Gradient of Q wrt a:\", a.grad)\n",
    "print(\"Gradient of Q wrt a:\", b.grad)"
   ],
   "metadata": {
    "collapsed": false,
    "pycharm": {
     "name": "#%%\n",
     "is_executing": false
    }
   }
  },
  {
   "cell_type": "code",
   "execution_count": null,
   "outputs": [],
   "source": [
    "import torch, torchvision\n",
    "model = torchvision.models.resnet18(pretrained=True)\n",
    "data = torch.rand(1, 3, 64, 64)\n",
    "labels = torch.rand(1, 1000)"
   ],
   "metadata": {
    "collapsed": false,
    "pycharm": {
     "name": "#%%\n"
    }
   }
  },
  {
   "cell_type": "code",
   "execution_count": null,
   "outputs": [],
   "source": [
    "prediction = model(data) # forward pass\n",
    "\n",
    "loss = (prediction - labels).sum()\n",
    "loss.backward() # backward pass"
   ],
   "metadata": {
    "collapsed": false,
    "pycharm": {
     "name": "#%%\n"
    }
   }
  },
  {
   "cell_type": "code",
   "execution_count": null,
   "outputs": [],
   "source": [
    "# Load SGD optimizer\n",
    "optim = torch.optim.SGD(model.parameters(), lr=1e-2, momentum=0.9)\n",
    "\n",
    "# Initiate gradient descent\n",
    "optim.step() #gradient descent"
   ],
   "metadata": {
    "collapsed": false,
    "pycharm": {
     "name": "#%%\n"
    }
   }
  },
  {
   "cell_type": "markdown",
   "source": [
    "## 2. Neural Networks\n",
    "\n",
    "We take the following module form the PyTorch docs"
   ],
   "metadata": {
    "collapsed": false
   }
  },
  {
   "cell_type": "code",
   "execution_count": 32,
   "outputs": [
    {
     "name": "stdout",
     "text": [
      "Net(\n",
      "  (conv1): Conv2d(1, 6, kernel_size=(3, 3), stride=(1, 1))\n",
      "  (conv2): Conv2d(6, 16, kernel_size=(3, 3), stride=(1, 1))\n",
      "  (fc1): Linear(in_features=576, out_features=120, bias=True)\n",
      "  (fc2): Linear(in_features=120, out_features=84, bias=True)\n",
      "  (fc3): Linear(in_features=84, out_features=10, bias=True)\n",
      ")\n"
     ],
     "output_type": "stream"
    }
   ],
   "source": [
    "import torch\n",
    "import torch.nn as nn\n",
    "import torch.nn.functional as F\n",
    "\n",
    "\n",
    "class Net(nn.Module):\n",
    "\n",
    "    def __init__(self):\n",
    "        super(Net, self).__init__()\n",
    "        # 1 input image channel, 6 output channels, 3x3 square convolution\n",
    "        # kernel\n",
    "        self.conv1 = nn.Conv2d(1, 6, 3)\n",
    "        self.conv2 = nn.Conv2d(6, 16, 3)\n",
    "        # an affine operation: y = Wx + b\n",
    "        self.fc1 = nn.Linear(16 * 6 * 6, 120)  # 6*6 from image dimension\n",
    "        self.fc2 = nn.Linear(120, 84)\n",
    "        self.fc3 = nn.Linear(84, 10)\n",
    "\n",
    "    def forward(self, x):\n",
    "        # Max pooling over a (2, 2) window\n",
    "        x = F.max_pool2d(F.relu(self.conv1(x)), (2, 2))\n",
    "        # If the size is a square you can only specify a single number\n",
    "        x = F.max_pool2d(F.relu(self.conv2(x)), 2)\n",
    "        x = x.view(-1, self.num_flat_features(x))\n",
    "        x = F.relu(self.fc1(x))\n",
    "        x = F.relu(self.fc2(x))\n",
    "        x = self.fc3(x)\n",
    "        return x\n",
    "\n",
    "    def num_flat_features(self, x):\n",
    "        size = x.size()[1:]  # all dimensions except the batch dimension\n",
    "        num_features = 1\n",
    "        for s in size:\n",
    "            num_features *= s\n",
    "        return num_features\n",
    "\n",
    "\n",
    "net = Net()\n",
    "print(net)\n",
    "\n"
   ],
   "metadata": {
    "collapsed": false,
    "pycharm": {
     "name": "#%%\n",
     "is_executing": false
    }
   }
  },
  {
   "cell_type": "code",
   "execution_count": 37,
   "outputs": [
    {
     "name": "stdout",
     "text": [
      "10\n",
      "torch.Size([6, 1, 3, 3])\n",
      "torch.Size([6])\n",
      "torch.Size([16, 6, 3, 3])\n"
     ],
     "output_type": "stream"
    }
   ],
   "source": [
    "# Parameters\n",
    "params = list(net.parameters())\n",
    "print(len(params))\n",
    "print(params[0].size())  # conv1's .weight\n",
    "print(params[1].size())  # conv2's .weight\n",
    "print(params[2].size())  # conv2's .weight"
   ],
   "metadata": {
    "collapsed": false,
    "pycharm": {
     "name": "#%%\n",
     "is_executing": false
    }
   }
  },
  {
   "cell_type": "code",
   "execution_count": 38,
   "outputs": [
    {
     "name": "stdout",
     "text": [
      "tensor([[ 0.0712,  0.0681,  0.0193, -0.1568, -0.0419, -0.1266, -0.1221,  0.0602,\n",
      "          0.0865, -0.0258]], grad_fn=<AddmmBackward>)\n"
     ],
     "output_type": "stream"
    }
   ],
   "source": [
    "input = torch.randn(1, 1, 32, 32)\n",
    "out = net(input)\n",
    "print(out)"
   ],
   "metadata": {
    "collapsed": false,
    "pycharm": {
     "name": "#%%\n",
     "is_executing": false
    }
   }
  },
  {
   "cell_type": "code",
   "execution_count": 39,
   "outputs": [],
   "source": [
    "net.zero_grad()\n",
    "out.backward(torch.randn(1, 10))\n"
   ],
   "metadata": {
    "collapsed": false,
    "pycharm": {
     "name": "#%%\n",
     "is_executing": false
    }
   }
  },
  {
   "cell_type": "code",
   "execution_count": null,
   "outputs": [],
   "source": [
    "\n"
   ],
   "metadata": {
    "collapsed": false,
    "pycharm": {
     "name": "#%%\n"
    }
   }
  }
 ],
 "metadata": {
  "kernelspec": {
   "display_name": "Python 3",
   "language": "python",
   "name": "python3"
  },
  "language_info": {
   "codemirror_mode": {
    "name": "ipython",
    "version": 2
   },
   "file_extension": ".py",
   "mimetype": "text/x-python",
   "name": "python",
   "nbconvert_exporter": "python",
   "pygments_lexer": "ipython2",
   "version": "2.7.6"
  },
  "pycharm": {
   "stem_cell": {
    "cell_type": "raw",
    "source": [],
    "metadata": {
     "collapsed": false
    }
   }
  }
 },
 "nbformat": 4,
 "nbformat_minor": 0
}