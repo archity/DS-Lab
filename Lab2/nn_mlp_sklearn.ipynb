{
  "nbformat": 4,
  "nbformat_minor": 0,
  "metadata": {
    "kernelspec": {
      "display_name": "Python 3",
      "language": "python",
      "name": "python3"
    },
    "language_info": {
      "codemirror_mode": {
        "name": "ipython",
        "version": 2
      },
      "file_extension": ".py",
      "mimetype": "text/x-python",
      "name": "python",
      "nbconvert_exporter": "python",
      "pygments_lexer": "ipython2",
      "version": "2.7.6"
    },
    "pycharm": {
      "stem_cell": {
        "cell_type": "raw",
        "source": [],
        "metadata": {
          "collapsed": false
        }
      }
    },
    "colab": {
      "name": "nn_mlp_sklearn.ipynb",
      "provenance": [],
      "collapsed_sections": []
    }
  },
  "cells": [
    {
      "cell_type": "markdown",
      "metadata": {
        "collapsed": false,
        "id": "WR71DMck6jzl"
      },
      "source": [
        "# Part I: Multi-layer Perceptron with sklearn\n",
        "\n",
        "- Author: Archit YADAV"
      ]
    },
    {
      "cell_type": "markdown",
      "metadata": {
        "collapsed": false,
        "id": "Z6Il41Bw6jzr"
      },
      "source": [
        "## 1 Learning Boolean Operators"
      ]
    },
    {
      "cell_type": "markdown",
      "metadata": {
        "collapsed": false,
        "id": "ojRMs2OO6jzs"
      },
      "source": [
        "### 1. Classifier for AND operator"
      ]
    },
    {
      "cell_type": "code",
      "metadata": {
        "pycharm": {
          "name": "#%%\n",
          "is_executing": false
        },
        "id": "SV8GGYW76jzs",
        "colab": {
          "base_uri": "https://localhost:8080/"
        },
        "outputId": "4dc579d3-5cf2-4e18-f260-3e44fedc51b9"
      },
      "source": [
        "#import classifier as classifier\n",
        "import numpy as np\n",
        "from sklearn.neural_network import MLPClassifier \n",
        "X = [ [0., 0.], [0., 1.], [1., 0.], [1., 1.] ] # Inputs\n",
        "y = [0, 0, 0, 1] # Outputs\n",
        "\n",
        "X_test = [[1., 1.]]\n",
        "\n",
        "classifier = MLPClassifier(hidden_layer_sizes=(), activation=\"identity\", solver='lbfgs')\n",
        "classifier.fit(X, y)\n",
        "\n",
        "classifier.predict(X_test)"
      ],
      "execution_count": 3,
      "outputs": [
        {
          "output_type": "execute_result",
          "data": {
            "text/plain": [
              "array([1])"
            ]
          },
          "metadata": {
            "tags": []
          },
          "execution_count": 3
        }
      ]
    },
    {
      "cell_type": "markdown",
      "metadata": {
        "collapsed": false,
        "id": "5AV_9qSE6jzt"
      },
      "source": [
        "### 2. Classifier for OR operator"
      ]
    },
    {
      "cell_type": "code",
      "metadata": {
        "pycharm": {
          "name": "#%%\n",
          "is_executing": false
        },
        "id": "WdkWcO1d6jzu",
        "outputId": "2afbbeeb-e333-4c60-8088-297ef70db687"
      },
      "source": [
        "X = [ [0., 0.], [0., 1.], [1., 0.], [1., 1.] ] # Inputs\n",
        "y = [0, 1, 1, 1] # Outputs\n",
        "\n",
        "X_test = [[1., 0.]]\n",
        "\n",
        "classifier = MLPClassifier(hidden_layer_sizes=(), activation=\"identity\", solver='lbfgs')\n",
        "classifier.fit(X, y)\n",
        "\n",
        "classifier.predict(X_test)"
      ],
      "execution_count": null,
      "outputs": [
        {
          "output_type": "execute_result",
          "data": {
            "text/plain": [
              "array([1])"
            ]
          },
          "metadata": {
            "tags": []
          },
          "execution_count": 6
        }
      ]
    },
    {
      "cell_type": "markdown",
      "metadata": {
        "collapsed": false,
        "id": "4VBshSiX6jzu"
      },
      "source": [
        "### 2. Classifier for XOR operator"
      ]
    },
    {
      "cell_type": "markdown",
      "metadata": {
        "collapsed": false,
        "id": "r2bDNf3N6jzu"
      },
      "source": [
        "#### (a)"
      ]
    },
    {
      "cell_type": "code",
      "metadata": {
        "pycharm": {
          "name": "#%%\n",
          "is_executing": false
        },
        "id": "B0Khh2XG6jzv",
        "outputId": "30ce3599-45a6-4aeb-fc9c-5c9b729cfafa"
      },
      "source": [
        "X = [ [0., 0.], [0., 1.], [1., 0.], [1., 1.] ] # Inputs\n",
        "y = [0, 1, 1, 0] # Outputs\n",
        "\n",
        "X_test = [[1., 1.]]\n",
        "\n",
        "classifier = MLPClassifier(hidden_layer_sizes=(), activation=\"identity\", solver='lbfgs')\n",
        "classifier.fit(X, y)\n",
        "\n",
        "classifier.predict(X_test)"
      ],
      "execution_count": null,
      "outputs": [
        {
          "output_type": "execute_result",
          "data": {
            "text/plain": [
              "array([1])"
            ]
          },
          "metadata": {
            "tags": []
          },
          "execution_count": 10
        }
      ]
    },
    {
      "cell_type": "markdown",
      "metadata": {
        "collapsed": false,
        "pycharm": {
          "name": "#%% md\n"
        },
        "id": "0eyr3SYp6jzv"
      },
      "source": [
        "#### (b)"
      ]
    },
    {
      "cell_type": "code",
      "metadata": {
        "pycharm": {
          "name": "#%%\n",
          "is_executing": false
        },
        "id": "6cIrciPz6jzv",
        "outputId": "f9db3aae-e9eb-4872-b90f-cc3d7b305cbd"
      },
      "source": [
        "X = [ [0., 0.], [0., 1.], [1., 0.], [1., 1.] ] # Inputs\n",
        "y = [0, 1, 1, 0] # Outputs\n",
        "\n",
        "X_test = [[1., 1.]]\n",
        "\n",
        "classifier = MLPClassifier(hidden_layer_sizes=(4, 4), activation=\"identity\", solver='lbfgs')\n",
        "classifier.fit(X, y)\n",
        "\n",
        "classifier.predict(X_test)"
      ],
      "execution_count": null,
      "outputs": [
        {
          "output_type": "execute_result",
          "data": {
            "text/plain": [
              "array([1])"
            ]
          },
          "metadata": {
            "tags": []
          },
          "execution_count": 14
        }
      ]
    },
    {
      "cell_type": "markdown",
      "metadata": {
        "collapsed": false,
        "pycharm": {
          "name": "#%% md\n"
        },
        "id": "aL8Ooq6t6jzw"
      },
      "source": [
        "#### (c)"
      ]
    },
    {
      "cell_type": "code",
      "metadata": {
        "pycharm": {
          "name": "#%%\n",
          "is_executing": false
        },
        "id": "hFXmVkYp6jzw",
        "outputId": "b7747e20-b1ff-48e3-cfc3-e0b6d16e9483"
      },
      "source": [
        "X = [ [0., 0.], [0., 1.], [1., 0.], [1., 1.] ] # Inputs\n",
        "y = [0, 1, 1, 0] # Outputs\n",
        "\n",
        "X_test = [[1., 1.]]\n",
        "\n",
        "classifier = MLPClassifier(hidden_layer_sizes=(4, 4),\n",
        "                           activation=\"tanh\", solver='lbfgs', max_iter=1000)\n",
        "classifier.fit(X, y)\n",
        "\n",
        "classifier.predict(X_test)\n"
      ],
      "execution_count": null,
      "outputs": [
        {
          "output_type": "execute_result",
          "data": {
            "text/plain": [
              "array([0])"
            ]
          },
          "metadata": {
            "tags": []
          },
          "execution_count": 28
        }
      ]
    },
    {
      "cell_type": "markdown",
      "metadata": {
        "collapsed": false,
        "id": "CeTKbhYy6jzw"
      },
      "source": [
        "## 2 Image Classification"
      ]
    },
    {
      "cell_type": "code",
      "metadata": {
        "pycharm": {
          "name": "#%%\n",
          "is_executing": false
        },
        "id": "5hFj635v6jzw",
        "colab": {
          "base_uri": "https://localhost:8080/"
        },
        "outputId": "9e4dfc48-5141-4bfd-da8c-6b1474d2c5bb"
      },
      "source": [
        "from sklearn.datasets import load_digits\n",
        "from sklearn.model_selection import train_test_split\n",
        "\n",
        "dataset = load_digits()\n",
        "X = dataset.data # inputs\n",
        "y = dataset.target # Associated outputs\n",
        "\n",
        "train_X, test_X, train_y, test_y = train_test_split(X, y,\n",
        "                                                    test_size = 0.1,\n",
        "                                                    random_state=3)\n",
        "print(train_X.shape)"
      ],
      "execution_count": 1,
      "outputs": [
        {
          "output_type": "stream",
          "text": [
            "(1617, 64)\n"
          ],
          "name": "stdout"
        }
      ]
    },
    {
      "cell_type": "code",
      "metadata": {
        "pycharm": {
          "name": "#%%\n",
          "is_executing": false
        },
        "id": "UDY4oeU66jzx",
        "colab": {
          "base_uri": "https://localhost:8080/"
        },
        "outputId": "e671ae0d-7df8-4ff8-9a71-a2d98e81c83e"
      },
      "source": [
        "classifier = MLPClassifier(hidden_layer_sizes=1000,\n",
        "                           activation=\"logistic\",\n",
        "                           solver='sgd', tol=1e-10, max_iter=100000)\n",
        "classifier.fit(train_X, train_y)\n",
        "classifier.predict(test_X)\n",
        "\n",
        "from sklearn.metrics import accuracy_score\n",
        "\n",
        "test_y_pred = classifier.predict(test_X) # Predicted results\n",
        "print(\" Accuracy: \", accuracy_score(test_y, test_y_pred ))"
      ],
      "execution_count": 36,
      "outputs": [
        {
          "output_type": "stream",
          "text": [
            " Accuracy:  0.9722222222222222\n"
          ],
          "name": "stdout"
        }
      ]
    },
    {
      "cell_type": "markdown",
      "metadata": {
        "collapsed": false,
        "pycharm": {
          "name": "#%% md\n"
        },
        "id": "27GtRGP-6jzx"
      },
      "source": [
        "| Experiment No. | Hidden Layers | Activation | Solver | Iterations |   Accuracy   |\n",
        "|:--------------:|:-------------:|:----------:|:------:|:----------:|:------------:|\n",
        "|        1       |      100      |  identity  |  lbfgs |    1000    | [0.95, 0.96] |\n",
        "|        2       |      100      |    tanh    |  lbfgs |    1000    |     0.96     |\n",
        "|        3       |      100      |  logistic  |  lbfgs |    1000    |     0.96     |\n",
        "|        4       |      100      |  logistic  |  lbfgs |    10000   |     0.97     |\n",
        "|        5       |      1000     |  logistic  |   sgd  |   100000   |     0.97     |\n"
      ]
    },
    {
      "cell_type": "markdown",
      "metadata": {
        "id": "bNdRk3fzPYv9"
      },
      "source": [
        "Observations:\n",
        "\n",
        "* `sgd` required more iterations (10k) to converge, compared to other solvers based classifiers (1k)\n",
        "* It's difficult to conclude which classifier performs the best. Increasing the iterations as well as number of hidden layers seem to indicate towards a slightly higher accuracy."
      ]
    },
    {
      "cell_type": "markdown",
      "metadata": {
        "collapsed": false,
        "pycharm": {
          "name": "#%% md\n"
        },
        "id": "zso8bErU6jzx"
      },
      "source": [
        "---"
      ]
    },
    {
      "cell_type": "markdown",
      "metadata": {
        "collapsed": false,
        "id": "7CgJBovf6jzx"
      },
      "source": [
        "# Part II: PyTorch and CNN"
      ]
    },
    {
      "cell_type": "markdown",
      "metadata": {
        "collapsed": false,
        "pycharm": {
          "name": "#%% md\n"
        },
        "id": "kgqPPvQP6jzx"
      },
      "source": [
        "## 1. PyTorch Tensor Basics"
      ]
    },
    {
      "cell_type": "code",
      "metadata": {
        "pycharm": {
          "name": "#%%\n",
          "is_executing": false
        },
        "id": "Z-23GwFV6jzy",
        "outputId": "d95f0cab-facd-45a9-81d9-d6fa55a38e97"
      },
      "source": [
        "import torch\n",
        "data = [[1, 2],[3, 4]]\n",
        "x_data = torch.tensor(data)\n",
        "\n",
        "np_array = np.array(data)\n",
        "x_np = torch.from_numpy(np_array)\n",
        "\n",
        "print(x_data)"
      ],
      "execution_count": null,
      "outputs": [
        {
          "output_type": "stream",
          "text": [
            "tensor([[1, 2],\n",
            "        [3, 4]])\n"
          ],
          "name": "stdout"
        }
      ]
    },
    {
      "cell_type": "code",
      "metadata": {
        "pycharm": {
          "name": "#%%\n",
          "is_executing": false
        },
        "id": "VOrr6ntj6jzy",
        "outputId": "cc546212-0659-4fde-a3ee-698701a98edc"
      },
      "source": [
        "# 4X4 tensor matrix\n",
        "tensor = torch.ones(4, 4)\n",
        "tensor = tensor + 2\n",
        "\n",
        "# Add 1 to each element\n",
        "tensor2 = tensor + 1\n",
        "\n",
        "print(tensor)\n",
        "print(tensor2)"
      ],
      "execution_count": null,
      "outputs": [
        {
          "output_type": "stream",
          "text": [
            "tensor([[3., 3., 3., 3.],\n",
            "        [3., 3., 3., 3.],\n",
            "        [3., 3., 3., 3.],\n",
            "        [3., 3., 3., 3.]])\n",
            "tensor([[4., 4., 4., 4.],\n",
            "        [4., 4., 4., 4.],\n",
            "        [4., 4., 4., 4.],\n",
            "        [4., 4., 4., 4.]])\n"
          ],
          "name": "stdout"
        }
      ]
    },
    {
      "cell_type": "code",
      "metadata": {
        "pycharm": {
          "name": "#%%\n",
          "is_executing": false
        },
        "id": "ZTDc9b0F6jzy",
        "outputId": "081fe758-56c8-4d1a-b81d-74b158a24790"
      },
      "source": [
        "# tensor multiplication\n",
        "tensor * tensor2"
      ],
      "execution_count": null,
      "outputs": [
        {
          "output_type": "execute_result",
          "data": {
            "text/plain": [
              "tensor([[12., 12., 12., 12.],\n",
              "        [12., 12., 12., 12.],\n",
              "        [12., 12., 12., 12.],\n",
              "        [12., 12., 12., 12.]])"
            ]
          },
          "metadata": {
            "tags": []
          },
          "execution_count": 13
        }
      ]
    },
    {
      "cell_type": "markdown",
      "metadata": {
        "collapsed": false,
        "pycharm": {
          "name": "#%% md\n"
        },
        "id": "8xTSdtbM6jzy"
      },
      "source": [
        "## 2. Torch Autograd"
      ]
    },
    {
      "cell_type": "markdown",
      "metadata": {
        "collapsed": false,
        "pycharm": {
          "name": "#%% md\n",
          "is_executing": false
        },
        "id": "vTvreGAN6jzz"
      },
      "source": [
        "Say, we want to compute the derivative of the following equation:\n",
        "\n",
        "$Q = 3a^3 - b^2$\n",
        "\n",
        "We know that\n",
        "\n",
        "$\\frac{\\partial Q}{\\partial a} = 9a^2$\n",
        "\n",
        "and\n",
        "\n",
        "$\\frac{\\partial Q}{\\partial b} = -2b$"
      ]
    },
    {
      "cell_type": "code",
      "metadata": {
        "pycharm": {
          "name": "#%%\n",
          "is_executing": false
        },
        "id": "3WpC1-OX6jzz",
        "outputId": "e23830e6-e5ef-42e9-fe1a-366e13279712"
      },
      "source": [
        "a = torch.tensor([2., 3.], requires_grad=True)\n",
        "b = torch.tensor([6., 4.], requires_grad=True)\n",
        "\n",
        "print(a)\n",
        "print(b)\n",
        "\n",
        "Q = 3*a**3 - b**2"
      ],
      "execution_count": null,
      "outputs": [
        {
          "output_type": "stream",
          "text": [
            "tensor([2., 3.], requires_grad=True)\n",
            "tensor([6., 4.], requires_grad=True)\n"
          ],
          "name": "stdout"
        }
      ]
    },
    {
      "cell_type": "code",
      "metadata": {
        "pycharm": {
          "name": "#%%\n",
          "is_executing": false
        },
        "id": "OyZPjfCv6jzz",
        "outputId": "f7a5b4b3-6e20-461f-d3a9-73301212eb09"
      },
      "source": [
        "# Gradient of Q wrt itself = 1\n",
        "external_grad = torch.tensor([1., 1.])\n",
        "\n",
        "Q.backward(gradient=external_grad, retain_graph=True)\n",
        "\n",
        "print(\"Gradient of Q wrt a:\", a.grad)\n",
        "print(\"Gradient of Q wrt a:\", b.grad)"
      ],
      "execution_count": null,
      "outputs": [
        {
          "output_type": "stream",
          "text": [
            "Gradient of Q wrt a: tensor([144., 324.])\n",
            "Gradient of Q wrt a: tensor([-48., -32.])\n"
          ],
          "name": "stdout"
        }
      ]
    },
    {
      "cell_type": "code",
      "metadata": {
        "pycharm": {
          "name": "#%%\n"
        },
        "id": "nS5b9MQR6jzz"
      },
      "source": [
        "import torch, torchvision\n",
        "model = torchvision.models.resnet18(pretrained=True)\n",
        "data = torch.rand(1, 3, 64, 64)\n",
        "labels = torch.rand(1, 1000)"
      ],
      "execution_count": null,
      "outputs": []
    },
    {
      "cell_type": "code",
      "metadata": {
        "pycharm": {
          "name": "#%%\n"
        },
        "id": "501lJ2D86jzz"
      },
      "source": [
        "prediction = model(data) # forward pass\n",
        "\n",
        "loss = (prediction - labels).sum()\n",
        "loss.backward() # backward pass"
      ],
      "execution_count": null,
      "outputs": []
    },
    {
      "cell_type": "code",
      "metadata": {
        "pycharm": {
          "name": "#%%\n"
        },
        "id": "fTF_74v26jz0"
      },
      "source": [
        "# Load SGD optimizer\n",
        "optim = torch.optim.SGD(model.parameters(), lr=1e-2, momentum=0.9)\n",
        "\n",
        "# Initiate gradient descent\n",
        "optim.step() #gradient descent\n"
      ],
      "execution_count": null,
      "outputs": []
    },
    {
      "cell_type": "markdown",
      "metadata": {
        "collapsed": false,
        "pycharm": {
          "name": "#%% md\n"
        },
        "id": "z69dpBSs6jz0"
      },
      "source": [
        "## 3. LeNet Network for MNIST\n",
        "\n",
        "The goal is to play around with a NN architecture and test it on\n",
        "MNIST dataset for image based digit classification.\n",
        "Comparison by tweaking various parameters and with\n",
        "MLP model will also be done.\n",
        "\n",
        "References:\n",
        "\n",
        "* [PyTorch docs](https://pytorch.org/tutorials/beginner/blitz/cifar10_tutorial.html)\n",
        "* [TDS article](https://towardsdatascience.com/implementing-yann-lecuns-lenet-5-in-pytorch-5e05a0911320)\n",
        "* [Medium article](https://medium.datadriveninvestor.com/architecture-implementation-of-lenet-from-scratch-in-pytorch-709cc38c00a9)"
      ]
    },
    {
      "cell_type": "code",
      "metadata": {
        "pycharm": {
          "name": "#%%\n",
          "is_executing": false
        },
        "id": "jy7inUu76jz0"
      },
      "source": [
        "import torch\n",
        "import torchvision\n",
        "from torchvision import datasets, transforms\n",
        "from torch import nn, optim\n"
      ],
      "execution_count": 39,
      "outputs": []
    },
    {
      "cell_type": "code",
      "metadata": {
        "pycharm": {
          "name": "#%%\n",
          "is_executing": false
        },
        "id": "bFVqZPK46jz0"
      },
      "source": [
        "# Transformations on data\n",
        "transform = transforms.Compose([transforms.Pad(2), transforms.ToTensor(),\n",
        "                              transforms.Normalize((0.5,),\n",
        "                                                   (0.5,)),\n",
        "                              ])\n",
        "# Normalize: to normalize the tensor with mean and std. dev."
      ],
      "execution_count": 40,
      "outputs": []
    },
    {
      "cell_type": "markdown",
      "metadata": {
        "collapsed": false,
        "pycharm": {
          "name": "#%% md\n"
        },
        "id": "WmyzVuxv6jz0"
      },
      "source": [
        "### Download the dataset"
      ]
    },
    {
      "cell_type": "markdown",
      "metadata": {
        "id": "rZeKjQ4E3SkH"
      },
      "source": [
        "Unzip the data.zip, which contains the MNIST dataset and was downloaded once."
      ]
    },
    {
      "cell_type": "code",
      "metadata": {
        "colab": {
          "base_uri": "https://localhost:8080/"
        },
        "id": "rx8N9tQC9W0c",
        "outputId": "fff96c59-fdca-47ea-a6e7-acac5c9785a0"
      },
      "source": [
        "!unzip data.zip"
      ],
      "execution_count": 42,
      "outputs": [
        {
          "output_type": "stream",
          "text": [
            "Archive:  data.zip\n",
            "   creating: data/\n",
            "   creating: data/MNIST/\n",
            "   creating: data/MNIST/processed/\n",
            "  inflating: data/MNIST/processed/test.pt  \n",
            "  inflating: data/MNIST/processed/training.pt  \n",
            "   creating: data/MNIST/raw/\n",
            "  inflating: data/MNIST/raw/t10k-images-idx3-ubyte  \n",
            " extracting: data/MNIST/raw/t10k-images-idx3-ubyte.gz  \n",
            "  inflating: data/MNIST/raw/t10k-labels-idx1-ubyte  \n",
            " extracting: data/MNIST/raw/t10k-labels-idx1-ubyte.gz  \n",
            "  inflating: data/MNIST/raw/train-images-idx3-ubyte  \n",
            " extracting: data/MNIST/raw/train-images-idx3-ubyte.gz  \n",
            "  inflating: data/MNIST/raw/train-labels-idx1-ubyte  \n",
            " extracting: data/MNIST/raw/train-labels-idx1-ubyte.gz  \n"
          ],
          "name": "stdout"
        }
      ]
    },
    {
      "cell_type": "markdown",
      "metadata": {
        "id": "y3ts3MaWr_Z5"
      },
      "source": [
        "### Define all parameters"
      ]
    },
    {
      "cell_type": "code",
      "metadata": {
        "id": "6VHo1mlgr-HW"
      },
      "source": [
        "DOWNLOAD = False      # To download the dataset or not\n",
        "BATCH_SIZE = 64\n",
        "LEARNING_RATE = 0.001\n",
        "KERNAL_SIZE_CONV = 5\n",
        "KERNAL_SIZE_POOL = 2\n",
        "STRIDE_CONV = 1\n",
        "STRIDE_POOL = 2\n",
        "EPOCHS = 2"
      ],
      "execution_count": 43,
      "outputs": []
    },
    {
      "cell_type": "code",
      "metadata": {
        "pycharm": {
          "name": "#%%\n",
          "is_executing": false
        },
        "id": "f9vIBr_O6jz1"
      },
      "source": [
        "# Download the datasets\n",
        "trainset = datasets.MNIST('./data', download=DOWNLOAD, train=True, transform=transform)\n",
        "valset = datasets.MNIST('./data', download=DOWNLOAD, train=False, transform=transform)"
      ],
      "execution_count": 44,
      "outputs": []
    },
    {
      "cell_type": "code",
      "metadata": {
        "pycharm": {
          "name": "#%%\n",
          "is_executing": false
        },
        "id": "k4uSaSph6jz1"
      },
      "source": [
        "# Feed the datasets to DataLoader\n",
        "# Read 64 images at a time\n",
        "trainloader = torch.utils.data.DataLoader(trainset, batch_size=BATCH_SIZE, shuffle=True)\n",
        "valloader = torch.utils.data.DataLoader(valset, batch_size=BATCH_SIZE, shuffle=True)\n",
        "\n",
        "dataset_sizes = {'train':len(trainset), 'test':len(valset)}\n"
      ],
      "execution_count": 45,
      "outputs": []
    },
    {
      "cell_type": "markdown",
      "metadata": {
        "id": "SEDahEWFULs5"
      },
      "source": [
        "### Plot few samples of the dataset\n",
        "\n",
        "Load 1 batch (64 images) of the input dataset, and check the label corresponding to the first 8 digits."
      ]
    },
    {
      "cell_type": "code",
      "metadata": {
        "pycharm": {
          "name": "#%%\n",
          "is_executing": false
        },
        "colab": {
          "base_uri": "https://localhost:8080/",
          "height": 321
        },
        "id": "59bRW7Vj6jz1",
        "outputId": "17c0f41c-3fcc-4d3d-a431-cf36bbb05eb6"
      },
      "source": [
        "import matplotlib.pyplot as plt\n",
        "import numpy as np\n",
        "\n",
        "classes = ('0', '1', '2', '3', '4', '5', '6', '7', '8', '9')\n",
        "# function to show an image\n",
        "def imshow(img):\n",
        "    img = img / 2 + 0.5     # unnormalize\n",
        "    npimg = img.numpy()\n",
        "    plt.imshow(np.transpose(npimg, (1, 2, 0)))\n",
        "    plt.show()\n",
        "\n",
        "\n",
        "# get some random training images\n",
        "dataiter = iter(trainloader)\n",
        "images, labels = dataiter.next()\n",
        "\n",
        "# show images\n",
        "imshow(torchvision.utils.make_grid(images))\n",
        "# print labels\n",
        "print(\"Labels of first row:\\n\")\n",
        "print(' '.join('%2s' % classes[labels[j]] for j in range(8)))"
      ],
      "execution_count": 46,
      "outputs": [
        {
          "output_type": "display_data",
          "data": {
            "image/png": "[encoded data removed]",
            "text/plain": [
              "<Figure size 432x288 with 1 Axes>"
            ]
          },
          "metadata": {
            "tags": [],
            "needs_background": "light"
          }
        },
        {
          "output_type": "stream",
          "text": [
            "Labels of first row:\n",
            "\n",
            " 1  8  7  6  6  5  7  7\n"
          ],
          "name": "stdout"
        }
      ]
    },
    {
      "cell_type": "code",
      "metadata": {
        "colab": {
          "base_uri": "https://localhost:8080/"
        },
        "id": "Jfg2OCzmGHUA",
        "outputId": "2dde3bde-4cbf-4364-cdb0-11fbb2fffc4a"
      },
      "source": [
        "images.size()"
      ],
      "execution_count": 47,
      "outputs": [
        {
          "output_type": "execute_result",
          "data": {
            "text/plain": [
              "torch.Size([64, 1, 32, 32])"
            ]
          },
          "metadata": {
            "tags": []
          },
          "execution_count": 47
        }
      ]
    },
    {
      "cell_type": "markdown",
      "metadata": {
        "id": "dTmYhnUdtlWg"
      },
      "source": [
        "`torch.Size([64, 1, 32, 32])` means we have images of diemnsion 32x32, each having 1 channel only (aka grayscale) and a `batch_size` of 64."
      ]
    },
    {
      "cell_type": "markdown",
      "metadata": {
        "collapsed": false,
        "pycharm": {
          "name": "#%% md\n"
        },
        "id": "Vj--cqd16jz2"
      },
      "source": [
        "### The LeNet architecture"
      ]
    },
    {
      "cell_type": "code",
      "metadata": {
        "pycharm": {
          "name": "#%%\n"
        },
        "id": "lLkIvu0-6jz2"
      },
      "source": [
        "import torch.nn as nn\n",
        "import torch.nn.functional as F\n",
        "from torch.autograd import Variable\n",
        "device = torch.device('cuda' if torch.cuda.is_available() else 'cpu')\n",
        "\n",
        "class LeNet(nn.Module):\n",
        "\n",
        "    def __init__(self):\n",
        "        super(LeNet, self).__init__()\n",
        "        \n",
        "        self.conv1 = nn.Conv2d(in_channels = 1, out_channels = 6, \n",
        "                              kernel_size = KERNAL_SIZE_CONV, stride = STRIDE_CONV, padding = 0)\n",
        "        self.conv2 = nn.Conv2d(in_channels = 6, out_channels = 16, \n",
        "                              kernel_size = KERNAL_SIZE_CONV, stride = STRIDE_CONV, padding = 0)\n",
        "        self.conv3 = nn.Conv2d(in_channels = 16, out_channels = 120, \n",
        "                              kernel_size = KERNAL_SIZE_CONV, stride = STRIDE_CONV, padding = 0)\n",
        "        self.linear1 = nn.Linear(120, 84)\n",
        "        self.linear2 = nn.Linear(84, 10)\n",
        "        self.tanh = nn.Tanh()\n",
        "        self.avgpool = nn.AvgPool2d(kernel_size = KERNAL_SIZE_POOL, stride = STRIDE_POOL)\n",
        "\n",
        "    def forward(self, x):\n",
        "        x = self.conv1(x)\n",
        "        x = self.tanh(x)\n",
        "        x = self.avgpool(x)\n",
        "        x = self.conv2(x)\n",
        "        x = self.tanh(x)\n",
        "        x = self.avgpool(x)\n",
        "        x = self.conv3(x)\n",
        "        x = self.tanh(x)\n",
        "        # print(x.shape)\n",
        "        \n",
        "        # x = x.reshape(-1, x.shape[1])\n",
        "        x = x.reshape(x.shape[0], -1)\n",
        "        # print(x.shape)\n",
        "        x = self.linear1(x)\n",
        "        x = self.tanh(x)\n",
        "        x = self.linear2(x)\n",
        "        return x\n",
        "    "
      ],
      "execution_count": 48,
      "outputs": []
    },
    {
      "cell_type": "markdown",
      "metadata": {
        "id": "hcLWpk5BUUeJ"
      },
      "source": [
        "### Summary of the constructed model"
      ]
    },
    {
      "cell_type": "code",
      "metadata": {
        "colab": {
          "base_uri": "https://localhost:8080/"
        },
        "id": "EEJhglyX-SCO",
        "outputId": "cd3a838f-6640-4068-9908-11ad34215236"
      },
      "source": [
        "from torchsummary import summary\n",
        "\n",
        "# N_CLASSES = 10\n",
        "model = LeNet()\n",
        "\n",
        "# Generate a random tensor of 64 sets of 32x32 numbers\n",
        "x = torch.randn(64,1,32,32)\n",
        "output = model(x)\n",
        "\n",
        "print(model)\n",
        "summary(model, (1,32,32))\n",
        "print(\"output.shape : \", output.shape)"
      ],
      "execution_count": 49,
      "outputs": [
        {
          "output_type": "stream",
          "text": [
            "LeNet(\n",
            "  (conv1): Conv2d(1, 6, kernel_size=(5, 5), stride=(1, 1))\n",
            "  (conv2): Conv2d(6, 16, kernel_size=(5, 5), stride=(1, 1))\n",
            "  (conv3): Conv2d(16, 120, kernel_size=(5, 5), stride=(1, 1))\n",
            "  (linear1): Linear(in_features=120, out_features=84, bias=True)\n",
            "  (linear2): Linear(in_features=84, out_features=10, bias=True)\n",
            "  (tanh): Tanh()\n",
            "  (avgpool): AvgPool2d(kernel_size=2, stride=2, padding=0)\n",
            ")\n",
            "----------------------------------------------------------------\n",
            "        Layer (type)               Output Shape         Param #\n",
            "================================================================\n",
            "            Conv2d-1            [-1, 6, 28, 28]             156\n",
            "              Tanh-2            [-1, 6, 28, 28]               0\n",
            "         AvgPool2d-3            [-1, 6, 14, 14]               0\n",
            "            Conv2d-4           [-1, 16, 10, 10]           2,416\n",
            "              Tanh-5           [-1, 16, 10, 10]               0\n",
            "         AvgPool2d-6             [-1, 16, 5, 5]               0\n",
            "            Conv2d-7            [-1, 120, 1, 1]          48,120\n",
            "              Tanh-8            [-1, 120, 1, 1]               0\n",
            "            Linear-9                   [-1, 84]          10,164\n",
            "             Tanh-10                   [-1, 84]               0\n",
            "           Linear-11                   [-1, 10]             850\n",
            "================================================================\n",
            "Total params: 61,706\n",
            "Trainable params: 61,706\n",
            "Non-trainable params: 0\n",
            "----------------------------------------------------------------\n",
            "Input size (MB): 0.00\n",
            "Forward/backward pass size (MB): 0.11\n",
            "Params size (MB): 0.24\n",
            "Estimated Total Size (MB): 0.35\n",
            "----------------------------------------------------------------\n",
            "output.shape :  torch.Size([64, 10])\n"
          ],
          "name": "stdout"
        }
      ]
    },
    {
      "cell_type": "markdown",
      "metadata": {
        "id": "vlU-ycUD_GZm"
      },
      "source": [
        "### Define a loss function and optimizer"
      ]
    },
    {
      "cell_type": "code",
      "metadata": {
        "id": "6B1QjtsF-7Qh"
      },
      "source": [
        "import torch.optim as optim\n",
        "\n",
        "model = LeNet().to(device)\n",
        "criterion = nn.CrossEntropyLoss()\n",
        "optimizer = optim.SGD(model.parameters(), lr=LEARNING_RATE, momentum=0.9)"
      ],
      "execution_count": 54,
      "outputs": []
    },
    {
      "cell_type": "markdown",
      "metadata": {
        "id": "yc2HpNlI_KrP"
      },
      "source": [
        "### Train the network\n",
        "\n",
        "We take every batch of our data (`batch_size`) and feed them to the model and evalaute the loss. We do this for `EPOCH` number of times."
      ]
    },
    {
      "cell_type": "code",
      "metadata": {
        "colab": {
          "base_uri": "https://localhost:8080/"
        },
        "id": "9hVq8M25_PkB",
        "outputId": "e9d26702-d604-41b7-bb34-d49c89f1ed20"
      },
      "source": [
        "\n",
        "for epoch in range(EPOCHS):  # loop over the dataset multiple times\n",
        "\n",
        "    running_loss = 0.0\n",
        "\n",
        "    # train phase, just set the mode\n",
        "    # (to tell the model that we're now gonna train)\n",
        "    model.train()\n",
        "\n",
        "    for i, data in enumerate(trainloader, 0):\n",
        "        # get the inputs; data is a list of [inputs, labels]\n",
        "        inputs, labels = data\n",
        "\n",
        "        # zero the parameter gradients\n",
        "        optimizer.zero_grad()\n",
        "        # print(\"Input size:\", inputs.shape)\n",
        "        # forward + backward + optimize\n",
        "        outputs = model(inputs)\n",
        "        loss = criterion(outputs, labels)\n",
        "        loss.backward()\n",
        "        optimizer.step()\n",
        "\n",
        "        # print statistics\n",
        "        running_loss += loss.item()\n",
        "        if i % 100 == 0:    # print every 100 mini-batches\n",
        "            print('[%d, %5d] loss: %.4f' %\n",
        "                  (epoch + 1, i, running_loss / 2000))\n",
        "            running_loss = 0.0\n",
        "\n",
        "    print(\"Epoch \", epoch + 1, \" done\")\n",
        "\n",
        "print('Finished Training')"
      ],
      "execution_count": 55,
      "outputs": [
        {
          "output_type": "stream",
          "text": [
            "[1,     0] loss: 0.0012\n",
            "[1,   100] loss: 0.1147\n",
            "[1,   200] loss: 0.1136\n",
            "[1,   300] loss: 0.1115\n",
            "[1,   400] loss: 0.1067\n",
            "[1,   500] loss: 0.0974\n",
            "[1,   600] loss: 0.0835\n",
            "[1,   700] loss: 0.0680\n",
            "[1,   800] loss: 0.0560\n",
            "[1,   900] loss: 0.0457\n",
            "Epoch  1  done\n",
            "[2,     0] loss: 0.0004\n",
            "[2,   100] loss: 0.0375\n",
            "[2,   200] loss: 0.0337\n",
            "[2,   300] loss: 0.0306\n",
            "[2,   400] loss: 0.0278\n",
            "[2,   500] loss: 0.0269\n",
            "[2,   600] loss: 0.0249\n",
            "[2,   700] loss: 0.0240\n",
            "[2,   800] loss: 0.0219\n",
            "[2,   900] loss: 0.0212\n",
            "Epoch  2  done\n",
            "Finished Training\n"
          ],
          "name": "stdout"
        }
      ]
    },
    {
      "cell_type": "markdown",
      "metadata": {
        "id": "Y6N_zWjiVSqz"
      },
      "source": [
        "### Plot few samples of labels (groundtruth)"
      ]
    },
    {
      "cell_type": "code",
      "metadata": {
        "pycharm": {
          "name": "#%%\n"
        },
        "colab": {
          "base_uri": "https://localhost:8080/",
          "height": 286
        },
        "id": "pNiz7tSS6jz2",
        "outputId": "58115219-e017-487d-c37b-29dbc174a0e9"
      },
      "source": [
        "dataiter = iter(valloader)\n",
        "images, labels = dataiter.next()\n",
        "\n",
        "# print images\n",
        "imshow(torchvision.utils.make_grid(images))\n",
        "print('GroundTruth: ', ' '.join('%2s' % classes[labels[j]] for j in range(8)))"
      ],
      "execution_count": 56,
      "outputs": [
        {
          "output_type": "display_data",
          "data": {
            "image/png": "[encoded data removed]",
            "text/plain": [
              "<Figure size 432x288 with 1 Axes>"
            ]
          },
          "metadata": {
            "tags": [],
            "needs_background": "light"
          }
        },
        {
          "output_type": "stream",
          "text": [
            "GroundTruth:   0  3  0  4  0  8  2  3\n"
          ],
          "name": "stdout"
        }
      ]
    },
    {
      "cell_type": "markdown",
      "metadata": {
        "id": "4VFcid1JVitd"
      },
      "source": [
        "### Make a prediction for few samples\n",
        "\n",
        "We take the images output from previous cell and feed them into our model to get some predictions.\n",
        "\n",
        "The outputs are basically the index of the highest valued energy from the `outputs` variable"
      ]
    },
    {
      "cell_type": "code",
      "metadata": {
        "colab": {
          "base_uri": "https://localhost:8080/"
        },
        "id": "-PdrTFz4Q7Py",
        "outputId": "2cb3c246-1d16-4ae5-cff5-944a7364a186"
      },
      "source": [
        "outputs = model(images)\n",
        "\n",
        "_, predicted = torch.max(outputs, 1)\n",
        "\n",
        "print('Predicted: ', ' '.join('%2s' % classes[predicted[j]]\n",
        "                              for j in range(8)))"
      ],
      "execution_count": 57,
      "outputs": [
        {
          "output_type": "stream",
          "text": [
            "Predicted:   0  3  0  4  0  8  2  3\n"
          ],
          "name": "stdout"
        }
      ]
    },
    {
      "cell_type": "markdown",
      "metadata": {
        "id": "y8jUM9wGWkmG"
      },
      "source": [
        "### Testing on the complete dataset\n",
        "\n",
        "Now that we have seen that out built model is able to predict digits correctly, we will use it to test on the rest of the validation (testing) dataset. "
      ]
    },
    {
      "cell_type": "code",
      "metadata": {
        "colab": {
          "base_uri": "https://localhost:8080/"
        },
        "id": "FU7yS7CbRLp8",
        "outputId": "a2ef0b26-ab51-4b81-8cdb-15b33f9d5775"
      },
      "source": [
        "# Eavluation phase\n",
        "# (Just to tell the model that we're now doing testing/evaluation)\n",
        "model.eval()\n",
        "\n",
        "correct = 0\n",
        "total = 0\n",
        "with torch.no_grad():\n",
        "    for data in valloader:\n",
        "        images, labels = data\n",
        "        outputs = model(images)\n",
        "        _, predicted = torch.max(outputs.data, 1)\n",
        "        total += labels.size(0)\n",
        "        correct += (predicted == labels).sum().item()\n",
        "\n",
        "print('Accuracy of the network on the 10000 test images: %d %%' % (\n",
        "    100 * correct / total))"
      ],
      "execution_count": 227,
      "outputs": [
        {
          "output_type": "stream",
          "text": [
            "Accuracy of the network on the 10000 test images: 93 %\n"
          ],
          "name": "stdout"
        }
      ]
    },
    {
      "cell_type": "code",
      "metadata": {
        "colab": {
          "base_uri": "https://localhost:8080/"
        },
        "id": "nk5Vd5CJRpcr",
        "outputId": "e70c40c0-72d2-435e-c847-b0eebec40b85"
      },
      "source": [
        "class_correct = list(0. for i in range(10))\n",
        "class_total = list(0. for i in range(10))\n",
        "with torch.no_grad():\n",
        "    for data in valloader:\n",
        "        images, labels = data\n",
        "        outputs = model(images)\n",
        "        _, predicted = torch.max(outputs, 1)\n",
        "        c = (predicted == labels).squeeze()\n",
        "        for i in range(4):\n",
        "            label = labels[i]\n",
        "            class_correct[label] += c[i].item()\n",
        "            class_total[label] += 1\n",
        "\n",
        "\n",
        "for i in range(10):\n",
        "    print('Accuracy of %5s : %2d %%' % (\n",
        "        classes[i], 100 * class_correct[i] / class_total[i]))"
      ],
      "execution_count": 228,
      "outputs": [
        {
          "output_type": "stream",
          "text": [
            "Accuracy of     0 : 98 %\n",
            "Accuracy of     1 : 95 %\n",
            "Accuracy of     2 : 87 %\n",
            "Accuracy of     3 : 88 %\n",
            "Accuracy of     4 : 92 %\n",
            "Accuracy of     5 : 85 %\n",
            "Accuracy of     6 : 96 %\n",
            "Accuracy of     7 : 92 %\n",
            "Accuracy of     8 : 92 %\n",
            "Accuracy of     9 : 84 %\n"
          ],
          "name": "stdout"
        }
      ]
    },
    {
      "cell_type": "markdown",
      "metadata": {
        "id": "XCCnQCccqKZ1"
      },
      "source": [
        "In order to see the effect of network architecure parameters, as well as loss function and optimizer, we perform several experiments with different parameters, and make a tabulation of results (accuracy)."
      ]
    },
    {
      "cell_type": "markdown",
      "metadata": {
        "collapsed": false,
        "pycharm": {
          "name": "#%% md\n"
        },
        "id": "RWaT5NMr6jz2"
      },
      "source": [
        "\n",
        "# Experiments\n",
        "\n",
        "All of the experiments were performed while changing only 1 parameter at time wrt 1st experiment, except for experiment 4 & 5.\n",
        "\n",
        "The experiments:\n",
        "\n",
        "1.   Default parameters\n",
        "2.   Batch size -> halved\n",
        "3.   Learning rate -> 10x increased\n",
        "4.   Activation -> changed to Sigmoid\n",
        "5.   Sigmoid + 10 epochs\n",
        "6.   Pooling -> changed to Max\n",
        "7.   Kernal size -> changed to 3x3\n",
        "8.   Activatio -> ReLU\n",
        "9.   Epochs -> increased to 10\n",
        "\n",
        "|   Experiment No.   |  Rate | Batch Size | Epochs | Pooling | Kernal Size | Stride Length | Activation | Validation Accuracy |\n",
        "|:------------------:|:-----:|:----------:|:------:|:-------:|:-----------:|:-------------:|:----------:|:-------------------:|\n",
        "| 1 (default params) | 0.001 |     64     |    2   | Average |     5x5     |       1       |    tanh    |         96%         |\n",
        "|          2         | 0.001 |     32     |    2   | Average |     5x5     |       1       |    tanh    |         93%         |\n",
        "|          3         |  0.01 |     64     |    2   | Average |     5x5     |       1       |    tanh    |         97%         |\n",
        "|          4         | 0.001 |     64     |    2   | Average |     5x5     |       1       |   sigmoid  |         11%         |\n",
        "|          5         | 0.001 |     64     |   10   | Average |     5x5     |       1       |   sigmoid  |         11%         |\n",
        "|          6         | 0.001 |     64     |    2   |   Max   |     5x5     |       1       |    tanh    |         92%         |\n",
        "|          7         | 0.001 |     64     |    2   | Average |     3x3     |       1       |    tanh    |         90%         |\n",
        "|          8         | 0.001 |     64     |    2   | Average |     5x5     |       1       |    ReLU    |         88%         |\n",
        "|          9         | 0.001 |     64     |   10   | Average |     5x5     |       1       |    tanh    |         97%         |\n",
        "\n",
        "\n"
      ]
    },
    {
      "cell_type": "markdown",
      "metadata": {
        "id": "ZS8fagDnWjSv"
      },
      "source": [
        "\n",
        "Some observations:\n",
        "\n",
        "*   Compared to the MLP model, the validation accuracy seems to be more or less similar. The highest we get for LeNet architecture is 97% with increased learning rate (from 0.001 to 0.01)\n",
        "*   Sigmoid activation made the model perform the worst of all. Even if we train the model for more epochs, the validation accuracy still remains 11% only.\n",
        "*   For changing the kernal size from 5x5 to 3x3, a modification to `self.linear1 = nn.Linear(1920, 84)` was needed to be done, since 3x3 kernal generated more number of nodes. The dimension of the tensor just before `linear1` layer was now `[64, 120, 4, 4]` for 3x3 (rather than `[64, 120, 1, 1]` for 5x5).\n",
        "So in order to match the dimensions keeping the `batchsize` as `64`, we now needed `120*4*4=1920` as number of rows (aka the number of inputs to to the `linear1` layer)\n",
        "*   In comparison to MLPClassifier, LeNet ***can*** maybe perform better, if appropriate parameters are given (experiment no. 3 & 9). But on this particular dataset (MNIST), there is really slim chances of improving the accuracy. Infact, it's actually rather difficult to get a really bad accuracy on MNIST dataset in general, since at the end of the day, it's just a toy dataset.\n",
        "\n"
      ]
    },
    {
      "cell_type": "code",
      "metadata": {
        "id": "VKBqZWlQeQVP"
      },
      "source": [
        ""
      ],
      "execution_count": null,
      "outputs": []
    }
  ]
}