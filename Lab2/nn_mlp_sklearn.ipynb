{
 "cells": [
  {
   "cell_type": "code",
   "execution_count": null,
   "metadata": {
    "collapsed": true
   },
   "outputs": [],
   "source": []
  },
  {
   "cell_type": "markdown",
   "source": [
    " # Part I: Multi-layer Perceptron with sklearn"
   ],
   "metadata": {
    "collapsed": false
   }
  },
  {
   "cell_type": "markdown",
   "source": [
    "## 1 Learning Boolean Operators"
   ],
   "metadata": {
    "collapsed": false
   }
  },
  {
   "cell_type": "markdown",
   "source": [
    "### 1. Classifier for AND operator"
   ],
   "metadata": {
    "collapsed": false
   }
  },
  {
   "cell_type": "code",
   "execution_count": 5,
   "outputs": [
    {
     "data": {
      "text/plain": "array([1])"
     },
     "metadata": {},
     "output_type": "execute_result",
     "execution_count": 5
    }
   ],
   "source": [
    "#import classifier as classifier\n",
    "from sklearn.neural_network import MLPClassifier \n",
    "X = [ [0., 0.], [0., 1.], [1., 0.], [1., 1.] ] # Inputs\n",
    "y = [0, 0, 0, 1] # Outputs\n",
    "\n",
    "X_test = [[1., 1.]]\n",
    "\n",
    "classifier = MLPClassifier(hidden_layer_sizes=(), activation=\"identity\", solver='lbfgs')\n",
    "classifier.fit(X, y)\n",
    "\n",
    "classifier.predict(X_test)"
   ],
   "metadata": {
    "collapsed": false,
    "pycharm": {
     "name": "#%%\n",
     "is_executing": false
    }
   }
  },
  {
   "cell_type": "markdown",
   "source": [
    "### 2. Classifier for OR operator"
   ],
   "metadata": {
    "collapsed": false
   }
  },
  {
   "cell_type": "code",
   "execution_count": 6,
   "outputs": [
    {
     "data": {
      "text/plain": "array([1])"
     },
     "metadata": {},
     "output_type": "execute_result",
     "execution_count": 6
    }
   ],
   "source": [
    "X = [ [0., 0.], [0., 1.], [1., 0.], [1., 1.] ] # Inputs\n",
    "y = [0, 1, 1, 1] # Outputs\n",
    "\n",
    "X_test = [[1., 0.]]\n",
    "\n",
    "classifier = MLPClassifier(hidden_layer_sizes=(), activation=\"identity\", solver='lbfgs')\n",
    "classifier.fit(X, y)\n",
    "\n",
    "classifier.predict(X_test)"
   ],
   "metadata": {
    "collapsed": false,
    "pycharm": {
     "name": "#%%\n",
     "is_executing": false
    }
   }
  },
  {
   "cell_type": "markdown",
   "source": [
    "### 2. Classifier for XOR operator"
   ],
   "metadata": {
    "collapsed": false
   }
  },
  {
   "cell_type": "markdown",
   "source": [
    "#### (a)"
   ],
   "metadata": {
    "collapsed": false
   }
  },
  {
   "cell_type": "code",
   "execution_count": 10,
   "outputs": [
    {
     "data": {
      "text/plain": "array([1])"
     },
     "metadata": {},
     "output_type": "execute_result",
     "execution_count": 10
    }
   ],
   "source": [
    "X = [ [0., 0.], [0., 1.], [1., 0.], [1., 1.] ] # Inputs\n",
    "y = [0, 1, 1, 0] # Outputs\n",
    "\n",
    "X_test = [[1., 1.]]\n",
    "\n",
    "classifier = MLPClassifier(hidden_layer_sizes=(), activation=\"identity\", solver='lbfgs')\n",
    "classifier.fit(X, y)\n",
    "\n",
    "classifier.predict(X_test)"
   ],
   "metadata": {
    "collapsed": false,
    "pycharm": {
     "name": "#%%\n",
     "is_executing": false
    }
   }
  },
  {
   "cell_type": "markdown",
   "source": [
    "#### (b)"
   ],
   "metadata": {
    "collapsed": false,
    "pycharm": {
     "name": "#%% md\n"
    }
   }
  },
  {
   "cell_type": "code",
   "execution_count": 14,
   "outputs": [
    {
     "data": {
      "text/plain": "array([1])"
     },
     "metadata": {},
     "output_type": "execute_result",
     "execution_count": 14
    }
   ],
   "source": [
    "X = [ [0., 0.], [0., 1.], [1., 0.], [1., 1.] ] # Inputs\n",
    "y = [0, 1, 1, 0] # Outputs\n",
    "\n",
    "X_test = [[1., 1.]]\n",
    "\n",
    "classifier = MLPClassifier(hidden_layer_sizes=(4, 4), activation=\"identity\", solver='lbfgs')\n",
    "classifier.fit(X, y)\n",
    "\n",
    "classifier.predict(X_test)"
   ],
   "metadata": {
    "collapsed": false,
    "pycharm": {
     "name": "#%%\n",
     "is_executing": false
    }
   }
  },
  {
   "cell_type": "markdown",
   "source": [
    "#### (c)"
   ],
   "metadata": {
    "collapsed": false,
    "pycharm": {
     "name": "#%% md\n"
    }
   }
  },
  {
   "cell_type": "code",
   "execution_count": 28,
   "outputs": [
    {
     "data": {
      "text/plain": "array([0])"
     },
     "metadata": {},
     "output_type": "execute_result",
     "execution_count": 28
    }
   ],
   "source": [
    "X = [ [0., 0.], [0., 1.], [1., 0.], [1., 1.] ] # Inputs\n",
    "y = [0, 1, 1, 0] # Outputs\n",
    "\n",
    "X_test = [[1., 1.]]\n",
    "\n",
    "classifier = MLPClassifier(hidden_layer_sizes=(4, 4),\n",
    "                           activation=\"tanh\", solver='lbfgs', max_iter=1000)\n",
    "classifier.fit(X, y)\n",
    "\n",
    "classifier.predict(X_test)\n"
   ],
   "metadata": {
    "collapsed": false,
    "pycharm": {
     "name": "#%%\n",
     "is_executing": false
    }
   }
  },
  {
   "cell_type": "markdown",
   "source": [
    "## 2 Image Classification"
   ],
   "metadata": {
    "collapsed": false
   }
  },
  {
   "cell_type": "code",
   "execution_count": 320,
   "outputs": [
    {
     "name": "stdout",
     "text": [
      "(1617, 64)\n"
     ],
     "output_type": "stream"
    }
   ],
   "source": [
    "from sklearn.datasets import load_digits\n",
    "from sklearn.model_selection import train_test_split\n",
    "\n",
    "dataset = load_digits()\n",
    "X = dataset.data # inputs\n",
    "y = dataset.target # Associated outputs\n",
    "\n",
    "train_X, test_X, train_y, test_y = train_test_split(X, y,\n",
    "                                                    test_size = 0.1,\n",
    "                                                    random_state=3)\n",
    "print(train_X.shape)"
   ],
   "metadata": {
    "collapsed": false,
    "pycharm": {
     "name": "#%%\n",
     "is_executing": false
    }
   }
  },
  {
   "cell_type": "code",
   "execution_count": 344,
   "outputs": [
    {
     "name": "stdout",
     "text": [
      " Accuracy:  0.9666666666666667\n"
     ],
     "output_type": "stream"
    }
   ],
   "source": [
    "classifier = MLPClassifier(hidden_layer_sizes=(),\n",
    "                           activation=\"identity\",\n",
    "                           solver='sgd', tol=1e-10, max_iter=1000000)\n",
    "classifier.fit(train_X, train_y)\n",
    "classifier.predict(test_X)\n",
    "\n",
    "from sklearn.metrics import accuracy_score\n",
    "\n",
    "test_y_pred = classifier.predict(test_X) # Predicted results\n",
    "print(\" Accuracy: \", accuracy_score(test_y, test_y_pred ))"
   ],
   "metadata": {
    "collapsed": false,
    "pycharm": {
     "name": "#%%\n",
     "is_executing": false
    }
   }
  },
  {
   "cell_type": "markdown",
   "source": [
    "| Experiment No. | Hidden Layers | Activation | Solver | Iterations |   Accuracy   |\n",
    "|:--------------:|:-------------:|:----------:|:------:|:----------:|:------------:|\n",
    "|        1       |       0       |  identity  |  lbfgs |    1000    |  [0.93, 1.0] |\n",
    "|        2       |       0       |    tanh    |  lbfgs |    1000    | [0.94, 0.97] |\n",
    "|        3       |       0       |  logistic  |  lbfgs |    1000    |     0.94     |\n",
    "|        4       |       0       |    reLU    |  lbfgs |    1000    | [0.93, 0.97] |\n"
   ],
   "metadata": {
    "collapsed": false,
    "pycharm": {
     "name": "#%% md\n"
    }
   }
  },
  {
   "cell_type": "markdown",
   "source": [
    "---"
   ],
   "metadata": {
    "collapsed": false,
    "pycharm": {
     "name": "#%% md\n"
    }
   }
  },
  {
   "cell_type": "markdown",
   "source": [
    " # Part II: PyTorch and CNN"
   ],
   "metadata": {
    "collapsed": false
   }
  },
  {
   "cell_type": "code",
   "execution_count": 1,
   "outputs": [],
   "source": [
    "import torch\n",
    "data = [[1, 2],[3, 4]]\n",
    "x_data = torch.tensor(data)"
   ],
   "metadata": {
    "collapsed": false,
    "pycharm": {
     "name": "#%%\n",
     "is_executing": false
    }
   }
  },
  {
   "cell_type": "code",
   "execution_count": 2,
   "outputs": [
    {
     "name": "stdout",
     "text": [
      "tensor([[1, 2],\n",
      "        [3, 4]])\n"
     ],
     "output_type": "stream"
    }
   ],
   "source": [
    "print(x_data)\n",
    "\n"
   ],
   "metadata": {
    "collapsed": false,
    "pycharm": {
     "name": "#%%\n",
     "is_executing": false
    }
   }
  },
  {
   "cell_type": "code",
   "execution_count": null,
   "outputs": [],
   "source": [
    "\n"
   ],
   "metadata": {
    "collapsed": false,
    "pycharm": {
     "name": "#%%\n"
    }
   }
  }
 ],
 "metadata": {
  "kernelspec": {
   "display_name": "Python 3",
   "language": "python",
   "name": "python3"
  },
  "language_info": {
   "codemirror_mode": {
    "name": "ipython",
    "version": 2
   },
   "file_extension": ".py",
   "mimetype": "text/x-python",
   "name": "python",
   "nbconvert_exporter": "python",
   "pygments_lexer": "ipython2",
   "version": "2.7.6"
  },
  "pycharm": {
   "stem_cell": {
    "cell_type": "raw",
    "source": [],
    "metadata": {
     "collapsed": false
    }
   }
  }
 },
 "nbformat": 4,
 "nbformat_minor": 0
}