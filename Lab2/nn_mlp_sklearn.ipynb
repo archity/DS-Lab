{
  "nbformat": 4,
  "nbformat_minor": 0,
  "metadata": {
    "kernelspec": {
      "display_name": "Python 3",
      "language": "python",
      "name": "python3"
    },
    "language_info": {
      "codemirror_mode": {
        "name": "ipython",
        "version": 2
      },
      "file_extension": ".py",
      "mimetype": "text/x-python",
      "name": "python",
      "nbconvert_exporter": "python",
      "pygments_lexer": "ipython2",
      "version": "2.7.6"
    },
    "pycharm": {
      "stem_cell": {
        "cell_type": "raw",
        "source": [],
        "metadata": {
          "collapsed": false
        }
      }
    },
    "colab": {
      "name": "nn_mlp_sklearn.ipynb",
      "provenance": []
    }
  },
  "cells": [
    {
      "cell_type": "markdown",
      "metadata": {
        "collapsed": false,
        "id": "WR71DMck6jzl"
      },
      "source": [
        "# Part I: Multi-layer Perceptron with sklearn\n",
        "\n",
        "- Author: Archit YADAV"
      ]
    },
    {
      "cell_type": "markdown",
      "metadata": {
        "collapsed": false,
        "id": "Z6Il41Bw6jzr"
      },
      "source": [
        "## 1 Learning Boolean Operators"
      ]
    },
    {
      "cell_type": "markdown",
      "metadata": {
        "collapsed": false,
        "id": "ojRMs2OO6jzs"
      },
      "source": [
        "### 1. Classifier for AND operator"
      ]
    },
    {
      "cell_type": "code",
      "metadata": {
        "pycharm": {
          "name": "#%%\n",
          "is_executing": false
        },
        "id": "SV8GGYW76jzs",
        "outputId": "b50fe7ee-b8ce-4463-ae81-4cd0443f45c1"
      },
      "source": [
        "#import classifier as classifier\n",
        "import numpy as np\n",
        "from sklearn.neural_network import MLPClassifier \n",
        "X = [ [0., 0.], [0., 1.], [1., 0.], [1., 1.] ] # Inputs\n",
        "y = [0, 0, 0, 1] # Outputs\n",
        "\n",
        "X_test = [[1., 1.]]\n",
        "\n",
        "classifier = MLPClassifier(hidden_layer_sizes=(), activation=\"identity\", solver='lbfgs')\n",
        "classifier.fit(X, y)\n",
        "\n",
        "classifier.predict(X_test)"
      ],
      "execution_count": null,
      "outputs": [
        {
          "output_type": "execute_result",
          "data": {
            "text/plain": [
              "array([1])"
            ]
          },
          "metadata": {
            "tags": []
          },
          "execution_count": 25
        }
      ]
    },
    {
      "cell_type": "markdown",
      "metadata": {
        "collapsed": false,
        "id": "5AV_9qSE6jzt"
      },
      "source": [
        "### 2. Classifier for OR operator"
      ]
    },
    {
      "cell_type": "code",
      "metadata": {
        "pycharm": {
          "name": "#%%\n",
          "is_executing": false
        },
        "id": "WdkWcO1d6jzu",
        "outputId": "2afbbeeb-e333-4c60-8088-297ef70db687"
      },
      "source": [
        "X = [ [0., 0.], [0., 1.], [1., 0.], [1., 1.] ] # Inputs\n",
        "y = [0, 1, 1, 1] # Outputs\n",
        "\n",
        "X_test = [[1., 0.]]\n",
        "\n",
        "classifier = MLPClassifier(hidden_layer_sizes=(), activation=\"identity\", solver='lbfgs')\n",
        "classifier.fit(X, y)\n",
        "\n",
        "classifier.predict(X_test)"
      ],
      "execution_count": null,
      "outputs": [
        {
          "output_type": "execute_result",
          "data": {
            "text/plain": [
              "array([1])"
            ]
          },
          "metadata": {
            "tags": []
          },
          "execution_count": 6
        }
      ]
    },
    {
      "cell_type": "markdown",
      "metadata": {
        "collapsed": false,
        "id": "4VBshSiX6jzu"
      },
      "source": [
        "### 2. Classifier for XOR operator"
      ]
    },
    {
      "cell_type": "markdown",
      "metadata": {
        "collapsed": false,
        "id": "r2bDNf3N6jzu"
      },
      "source": [
        "#### (a)"
      ]
    },
    {
      "cell_type": "code",
      "metadata": {
        "pycharm": {
          "name": "#%%\n",
          "is_executing": false
        },
        "id": "B0Khh2XG6jzv",
        "outputId": "30ce3599-45a6-4aeb-fc9c-5c9b729cfafa"
      },
      "source": [
        "X = [ [0., 0.], [0., 1.], [1., 0.], [1., 1.] ] # Inputs\n",
        "y = [0, 1, 1, 0] # Outputs\n",
        "\n",
        "X_test = [[1., 1.]]\n",
        "\n",
        "classifier = MLPClassifier(hidden_layer_sizes=(), activation=\"identity\", solver='lbfgs')\n",
        "classifier.fit(X, y)\n",
        "\n",
        "classifier.predict(X_test)"
      ],
      "execution_count": null,
      "outputs": [
        {
          "output_type": "execute_result",
          "data": {
            "text/plain": [
              "array([1])"
            ]
          },
          "metadata": {
            "tags": []
          },
          "execution_count": 10
        }
      ]
    },
    {
      "cell_type": "markdown",
      "metadata": {
        "collapsed": false,
        "pycharm": {
          "name": "#%% md\n"
        },
        "id": "0eyr3SYp6jzv"
      },
      "source": [
        "#### (b)"
      ]
    },
    {
      "cell_type": "code",
      "metadata": {
        "pycharm": {
          "name": "#%%\n",
          "is_executing": false
        },
        "id": "6cIrciPz6jzv",
        "outputId": "f9db3aae-e9eb-4872-b90f-cc3d7b305cbd"
      },
      "source": [
        "X = [ [0., 0.], [0., 1.], [1., 0.], [1., 1.] ] # Inputs\n",
        "y = [0, 1, 1, 0] # Outputs\n",
        "\n",
        "X_test = [[1., 1.]]\n",
        "\n",
        "classifier = MLPClassifier(hidden_layer_sizes=(4, 4), activation=\"identity\", solver='lbfgs')\n",
        "classifier.fit(X, y)\n",
        "\n",
        "classifier.predict(X_test)"
      ],
      "execution_count": null,
      "outputs": [
        {
          "output_type": "execute_result",
          "data": {
            "text/plain": [
              "array([1])"
            ]
          },
          "metadata": {
            "tags": []
          },
          "execution_count": 14
        }
      ]
    },
    {
      "cell_type": "markdown",
      "metadata": {
        "collapsed": false,
        "pycharm": {
          "name": "#%% md\n"
        },
        "id": "aL8Ooq6t6jzw"
      },
      "source": [
        "#### (c)"
      ]
    },
    {
      "cell_type": "code",
      "metadata": {
        "pycharm": {
          "name": "#%%\n",
          "is_executing": false
        },
        "id": "hFXmVkYp6jzw",
        "outputId": "b7747e20-b1ff-48e3-cfc3-e0b6d16e9483"
      },
      "source": [
        "X = [ [0., 0.], [0., 1.], [1., 0.], [1., 1.] ] # Inputs\n",
        "y = [0, 1, 1, 0] # Outputs\n",
        "\n",
        "X_test = [[1., 1.]]\n",
        "\n",
        "classifier = MLPClassifier(hidden_layer_sizes=(4, 4),\n",
        "                           activation=\"tanh\", solver='lbfgs', max_iter=1000)\n",
        "classifier.fit(X, y)\n",
        "\n",
        "classifier.predict(X_test)\n"
      ],
      "execution_count": null,
      "outputs": [
        {
          "output_type": "execute_result",
          "data": {
            "text/plain": [
              "array([0])"
            ]
          },
          "metadata": {
            "tags": []
          },
          "execution_count": 28
        }
      ]
    },
    {
      "cell_type": "markdown",
      "metadata": {
        "collapsed": false,
        "id": "CeTKbhYy6jzw"
      },
      "source": [
        "## 2 Image Classification"
      ]
    },
    {
      "cell_type": "code",
      "metadata": {
        "pycharm": {
          "name": "#%%\n",
          "is_executing": false
        },
        "id": "5hFj635v6jzw",
        "outputId": "7699c970-ca6f-4ef1-ea5f-cc0de3ac4dae"
      },
      "source": [
        "from sklearn.datasets import load_digits\n",
        "from sklearn.model_selection import train_test_split\n",
        "\n",
        "dataset = load_digits()\n",
        "X = dataset.data # inputs\n",
        "y = dataset.target # Associated outputs\n",
        "\n",
        "train_X, test_X, train_y, test_y = train_test_split(X, y,\n",
        "                                                    test_size = 0.1,\n",
        "                                                    random_state=3)\n",
        "print(train_X.shape)"
      ],
      "execution_count": null,
      "outputs": [
        {
          "output_type": "stream",
          "text": [
            "(1617, 64)\n"
          ],
          "name": "stdout"
        }
      ]
    },
    {
      "cell_type": "code",
      "metadata": {
        "pycharm": {
          "name": "#%%\n",
          "is_executing": false
        },
        "id": "UDY4oeU66jzx",
        "outputId": "76813a2f-3bc4-4c99-849f-aba638ce7144"
      },
      "source": [
        "classifier = MLPClassifier(hidden_layer_sizes=(),\n",
        "                           activation=\"identity\",\n",
        "                           solver='sgd', tol=1e-10, max_iter=1000000)\n",
        "classifier.fit(train_X, train_y)\n",
        "classifier.predict(test_X)\n",
        "\n",
        "from sklearn.metrics import accuracy_score\n",
        "\n",
        "test_y_pred = classifier.predict(test_X) # Predicted results\n",
        "print(\" Accuracy: \", accuracy_score(test_y, test_y_pred ))"
      ],
      "execution_count": null,
      "outputs": [
        {
          "output_type": "stream",
          "text": [
            " Accuracy:  0.9666666666666667\n"
          ],
          "name": "stdout"
        }
      ]
    },
    {
      "cell_type": "markdown",
      "metadata": {
        "collapsed": false,
        "pycharm": {
          "name": "#%% md\n"
        },
        "id": "27GtRGP-6jzx"
      },
      "source": [
        "| Experiment No. | Hidden Layers | Activation | Solver | Iterations |   Accuracy   |\n",
        "|:--------------:|:-------------:|:----------:|:------:|:----------:|:------------:|\n",
        "|        1       |       0       |  identity  |  lbfgs |    1000    |  [0.93, 1.0] |\n",
        "|        2       |       0       |    tanh    |  lbfgs |    1000    | [0.94, 0.97] |\n",
        "|        3       |       0       |  logistic  |  lbfgs |    1000    |     0.94     |\n",
        "|        4       |       0       |    reLU    |  lbfgs |    1000    | [0.93, 0.97] |\n"
      ]
    },
    {
      "cell_type": "markdown",
      "metadata": {
        "collapsed": false,
        "pycharm": {
          "name": "#%% md\n"
        },
        "id": "zso8bErU6jzx"
      },
      "source": [
        "---"
      ]
    },
    {
      "cell_type": "markdown",
      "metadata": {
        "collapsed": false,
        "id": "7CgJBovf6jzx"
      },
      "source": [
        "# Part II: PyTorch and CNN"
      ]
    },
    {
      "cell_type": "markdown",
      "metadata": {
        "collapsed": false,
        "pycharm": {
          "name": "#%% md\n"
        },
        "id": "kgqPPvQP6jzx"
      },
      "source": [
        "## 1. PyTorch Tensor Basics"
      ]
    },
    {
      "cell_type": "code",
      "metadata": {
        "pycharm": {
          "name": "#%%\n",
          "is_executing": false
        },
        "id": "Z-23GwFV6jzy",
        "outputId": "d95f0cab-facd-45a9-81d9-d6fa55a38e97"
      },
      "source": [
        "import torch\n",
        "data = [[1, 2],[3, 4]]\n",
        "x_data = torch.tensor(data)\n",
        "\n",
        "np_array = np.array(data)\n",
        "x_np = torch.from_numpy(np_array)\n",
        "\n",
        "print(x_data)"
      ],
      "execution_count": null,
      "outputs": [
        {
          "output_type": "stream",
          "text": [
            "tensor([[1, 2],\n",
            "        [3, 4]])\n"
          ],
          "name": "stdout"
        }
      ]
    },
    {
      "cell_type": "code",
      "metadata": {
        "pycharm": {
          "name": "#%%\n",
          "is_executing": false
        },
        "id": "VOrr6ntj6jzy",
        "outputId": "cc546212-0659-4fde-a3ee-698701a98edc"
      },
      "source": [
        "# 4X4 tensor matrix\n",
        "tensor = torch.ones(4, 4)\n",
        "tensor = tensor + 2\n",
        "\n",
        "# Add 1 to each element\n",
        "tensor2 = tensor + 1\n",
        "\n",
        "print(tensor)\n",
        "print(tensor2)"
      ],
      "execution_count": null,
      "outputs": [
        {
          "output_type": "stream",
          "text": [
            "tensor([[3., 3., 3., 3.],\n",
            "        [3., 3., 3., 3.],\n",
            "        [3., 3., 3., 3.],\n",
            "        [3., 3., 3., 3.]])\n",
            "tensor([[4., 4., 4., 4.],\n",
            "        [4., 4., 4., 4.],\n",
            "        [4., 4., 4., 4.],\n",
            "        [4., 4., 4., 4.]])\n"
          ],
          "name": "stdout"
        }
      ]
    },
    {
      "cell_type": "code",
      "metadata": {
        "pycharm": {
          "name": "#%%\n",
          "is_executing": false
        },
        "id": "ZTDc9b0F6jzy",
        "outputId": "081fe758-56c8-4d1a-b81d-74b158a24790"
      },
      "source": [
        "# tensor multiplication\n",
        "tensor * tensor2"
      ],
      "execution_count": null,
      "outputs": [
        {
          "output_type": "execute_result",
          "data": {
            "text/plain": [
              "tensor([[12., 12., 12., 12.],\n",
              "        [12., 12., 12., 12.],\n",
              "        [12., 12., 12., 12.],\n",
              "        [12., 12., 12., 12.]])"
            ]
          },
          "metadata": {
            "tags": []
          },
          "execution_count": 13
        }
      ]
    },
    {
      "cell_type": "markdown",
      "metadata": {
        "collapsed": false,
        "pycharm": {
          "name": "#%% md\n"
        },
        "id": "8xTSdtbM6jzy"
      },
      "source": [
        "## 2. Torch Autograd"
      ]
    },
    {
      "cell_type": "markdown",
      "metadata": {
        "collapsed": false,
        "pycharm": {
          "name": "#%% md\n",
          "is_executing": false
        },
        "id": "vTvreGAN6jzz"
      },
      "source": [
        "Say, we want to compute the derivative of the following equation:\n",
        "\n",
        "$Q = 3a^3 - b^2$\n",
        "\n",
        "We know that\n",
        "\n",
        "$\\frac{\\partial Q}{\\partial a} = 9a^2$\n",
        "\n",
        "and\n",
        "\n",
        "$\\frac{\\partial Q}{\\partial b} = -2b$"
      ]
    },
    {
      "cell_type": "code",
      "metadata": {
        "pycharm": {
          "name": "#%%\n",
          "is_executing": false
        },
        "id": "3WpC1-OX6jzz",
        "outputId": "e23830e6-e5ef-42e9-fe1a-366e13279712"
      },
      "source": [
        "a = torch.tensor([2., 3.], requires_grad=True)\n",
        "b = torch.tensor([6., 4.], requires_grad=True)\n",
        "\n",
        "print(a)\n",
        "print(b)\n",
        "\n",
        "Q = 3*a**3 - b**2"
      ],
      "execution_count": null,
      "outputs": [
        {
          "output_type": "stream",
          "text": [
            "tensor([2., 3.], requires_grad=True)\n",
            "tensor([6., 4.], requires_grad=True)\n"
          ],
          "name": "stdout"
        }
      ]
    },
    {
      "cell_type": "code",
      "metadata": {
        "pycharm": {
          "name": "#%%\n",
          "is_executing": false
        },
        "id": "OyZPjfCv6jzz",
        "outputId": "f7a5b4b3-6e20-461f-d3a9-73301212eb09"
      },
      "source": [
        "# Gradient of Q wrt itself = 1\n",
        "external_grad = torch.tensor([1., 1.])\n",
        "\n",
        "Q.backward(gradient=external_grad, retain_graph=True)\n",
        "\n",
        "print(\"Gradient of Q wrt a:\", a.grad)\n",
        "print(\"Gradient of Q wrt a:\", b.grad)"
      ],
      "execution_count": null,
      "outputs": [
        {
          "output_type": "stream",
          "text": [
            "Gradient of Q wrt a: tensor([144., 324.])\n",
            "Gradient of Q wrt a: tensor([-48., -32.])\n"
          ],
          "name": "stdout"
        }
      ]
    },
    {
      "cell_type": "code",
      "metadata": {
        "pycharm": {
          "name": "#%%\n"
        },
        "id": "nS5b9MQR6jzz"
      },
      "source": [
        "import torch, torchvision\n",
        "model = torchvision.models.resnet18(pretrained=True)\n",
        "data = torch.rand(1, 3, 64, 64)\n",
        "labels = torch.rand(1, 1000)"
      ],
      "execution_count": null,
      "outputs": []
    },
    {
      "cell_type": "code",
      "metadata": {
        "pycharm": {
          "name": "#%%\n"
        },
        "id": "501lJ2D86jzz"
      },
      "source": [
        "prediction = model(data) # forward pass\n",
        "\n",
        "loss = (prediction - labels).sum()\n",
        "loss.backward() # backward pass"
      ],
      "execution_count": null,
      "outputs": []
    },
    {
      "cell_type": "code",
      "metadata": {
        "pycharm": {
          "name": "#%%\n"
        },
        "id": "fTF_74v26jz0"
      },
      "source": [
        "# Load SGD optimizer\n",
        "optim = torch.optim.SGD(model.parameters(), lr=1e-2, momentum=0.9)\n",
        "\n",
        "# Initiate gradient descent\n",
        "optim.step() #gradient descent\n"
      ],
      "execution_count": null,
      "outputs": []
    },
    {
      "cell_type": "markdown",
      "metadata": {
        "collapsed": false,
        "pycharm": {
          "name": "#%% md\n"
        },
        "id": "z69dpBSs6jz0"
      },
      "source": [
        "## 3. LeNet Network for MNIST\n",
        "\n",
        "The goal is to play around with a NN architecture and test it on\n",
        "MNIST dataset for image based digit classification.\n",
        "Comparison by tweaking various parameters and with\n",
        "MLP model will also be done.\n",
        "\n",
        "References:\n",
        "\n",
        "* [PyTorch docs](https://pytorch.org/tutorials/beginner/blitz/cifar10_tutorial.html)\n",
        "* [TDS article](https://towardsdatascience.com/implementing-yann-lecuns-lenet-5-in-pytorch-5e05a0911320)\n",
        "* [Medium article](https://medium.datadriveninvestor.com/architecture-implementation-of-lenet-from-scratch-in-pytorch-709cc38c00a9)"
      ]
    },
    {
      "cell_type": "code",
      "metadata": {
        "pycharm": {
          "name": "#%%\n",
          "is_executing": false
        },
        "id": "jy7inUu76jz0"
      },
      "source": [
        "import torch\n",
        "import torchvision\n",
        "from torchvision import datasets, transforms\n",
        "from torch import nn, optim\n"
      ],
      "execution_count": 1,
      "outputs": []
    },
    {
      "cell_type": "code",
      "metadata": {
        "pycharm": {
          "name": "#%%\n",
          "is_executing": false
        },
        "id": "bFVqZPK46jz0"
      },
      "source": [
        "# Transformations on data\n",
        "transform = transforms.Compose([transforms.Pad(2), transforms.ToTensor(),\n",
        "                              transforms.Normalize((0.5,),\n",
        "                                                   (0.5,)),\n",
        "                              ])\n",
        "# Normalize: to normalize the tensor with mean and std. dev."
      ],
      "execution_count": 60,
      "outputs": []
    },
    {
      "cell_type": "markdown",
      "metadata": {
        "collapsed": false,
        "pycharm": {
          "name": "#%% md\n"
        },
        "id": "WmyzVuxv6jz0"
      },
      "source": [
        "### Download the dataset"
      ]
    },
    {
      "cell_type": "code",
      "metadata": {
        "colab": {
          "base_uri": "https://localhost:8080/"
        },
        "id": "rx8N9tQC9W0c",
        "outputId": "ab8d7040-1869-48b9-d331-25c83f98c4ea"
      },
      "source": [
        "!unzip data.zip"
      ],
      "execution_count": 4,
      "outputs": [
        {
          "output_type": "stream",
          "text": [
            "Archive:  data.zip\n",
            "  inflating: data/MNIST/processed/test.pt  \n",
            "  inflating: data/MNIST/processed/training.pt  \n",
            "  inflating: data/MNIST/raw/t10k-images-idx3-ubyte  \n",
            " extracting: data/MNIST/raw/t10k-images-idx3-ubyte.gz  \n",
            "  inflating: data/MNIST/raw/t10k-labels-idx1-ubyte  \n",
            " extracting: data/MNIST/raw/t10k-labels-idx1-ubyte.gz  \n",
            "  inflating: data/MNIST/raw/train-images-idx3-ubyte  \n",
            " extracting: data/MNIST/raw/train-images-idx3-ubyte.gz  \n",
            "  inflating: data/MNIST/raw/train-labels-idx1-ubyte  \n",
            " extracting: data/MNIST/raw/train-labels-idx1-ubyte.gz  \n"
          ],
          "name": "stdout"
        }
      ]
    },
    {
      "cell_type": "code",
      "metadata": {
        "pycharm": {
          "name": "#%%\n",
          "is_executing": false
        },
        "id": "f9vIBr_O6jz1"
      },
      "source": [
        "# Download the datasets\n",
        "download=False\n",
        "trainset = datasets.MNIST('./data', download=download, train=True, transform=transform)\n",
        "valset = datasets.MNIST('./data', download=download, train=False, transform=transform)"
      ],
      "execution_count": 61,
      "outputs": []
    },
    {
      "cell_type": "code",
      "metadata": {
        "pycharm": {
          "name": "#%%\n",
          "is_executing": false
        },
        "id": "k4uSaSph6jz1"
      },
      "source": [
        "# Feed the datasets to DataLoader\n",
        "# Read 64 images at a time\n",
        "trainloader = torch.utils.data.DataLoader(trainset, batch_size=64, shuffle=True)\n",
        "valloader = torch.utils.data.DataLoader(valset, batch_size=64, shuffle=True)\n",
        "\n",
        "dataset_sizes = {'train':len(trainset), 'test':len(valset)}\n"
      ],
      "execution_count": 62,
      "outputs": []
    },
    {
      "cell_type": "markdown",
      "metadata": {
        "id": "SEDahEWFULs5"
      },
      "source": [
        "### Plot few samples of the dataset"
      ]
    },
    {
      "cell_type": "code",
      "metadata": {
        "pycharm": {
          "name": "#%%\n",
          "is_executing": false
        },
        "colab": {
          "base_uri": "https://localhost:8080/",
          "height": 321
        },
        "id": "59bRW7Vj6jz1",
        "outputId": "6f12c9f5-c788-40b3-eb77-8e3c27175ba0"
      },
      "source": [
        "import matplotlib.pyplot as plt\n",
        "import numpy as np\n",
        "\n",
        "classes = ('0', '1', '2', '3', '4', '5', '6', '7', '8', '9')\n",
        "# function to show an image\n",
        "def imshow(img):\n",
        "    img = img / 2 + 0.5     # unnormalize\n",
        "    npimg = img.numpy()\n",
        "    plt.imshow(np.transpose(npimg, (1, 2, 0)))\n",
        "    plt.show()\n",
        "\n",
        "\n",
        "# get some random training images\n",
        "dataiter = iter(trainloader)\n",
        "images, labels = dataiter.next()\n",
        "\n",
        "# show images\n",
        "imshow(torchvision.utils.make_grid(images))\n",
        "# print labels\n",
        "print(\"Labels of first row:\\n\")\n",
        "print(' '.join('%2s' % classes[labels[j]] for j in range(8)))"
      ],
      "execution_count": 63,
      "outputs": [
        {
          "output_type": "display_data",
          "data": {
            "image/png": "[encoded data removed]",
            "text/plain": [
              "<Figure size 432x288 with 1 Axes>"
            ]
          },
          "metadata": {
            "tags": [],
            "needs_background": "light"
          }
        },
        {
          "output_type": "stream",
          "text": [
            "Labels of first row:\n",
            "\n",
            " 0  5  8  6  3  1  9  2\n"
          ],
          "name": "stdout"
        }
      ]
    },
    {
      "cell_type": "code",
      "metadata": {
        "colab": {
          "base_uri": "https://localhost:8080/"
        },
        "id": "Jfg2OCzmGHUA",
        "outputId": "e57e78e1-644d-4f56-8a2c-dc6c15b4485b"
      },
      "source": [
        "images.size()"
      ],
      "execution_count": 64,
      "outputs": [
        {
          "output_type": "execute_result",
          "data": {
            "text/plain": [
              "torch.Size([64, 1, 32, 32])"
            ]
          },
          "metadata": {
            "tags": []
          },
          "execution_count": 64
        }
      ]
    },
    {
      "cell_type": "markdown",
      "metadata": {
        "collapsed": false,
        "pycharm": {
          "name": "#%% md\n"
        },
        "id": "Vj--cqd16jz2"
      },
      "source": [
        "### The LeNet architecture"
      ]
    },
    {
      "cell_type": "code",
      "metadata": {
        "pycharm": {
          "name": "#%%\n"
        },
        "id": "lLkIvu0-6jz2"
      },
      "source": [
        "import torch.nn as nn\n",
        "import torch.nn.functional as F\n",
        "from torch.autograd import Variable\n",
        "device = torch.device('cuda' if torch.cuda.is_available() else 'cpu')\n",
        "\n",
        "class LeNet(nn.Module):\n",
        "\n",
        "    def __init__(self):\n",
        "        super(LeNet, self).__init__()\n",
        "        \n",
        "        self.conv1 = nn.Conv2d(in_channels = 1, out_channels = 6, \n",
        "                              kernel_size = 5, stride = 1, padding = 0)\n",
        "        self.conv2 = nn.Conv2d(in_channels = 6, out_channels = 16, \n",
        "                              kernel_size = 5, stride = 1, padding = 0)\n",
        "        self.conv3 = nn.Conv2d(in_channels = 16, out_channels = 120, \n",
        "                              kernel_size = 5, stride = 1, padding = 0)\n",
        "        self.linear1 = nn.Linear(120, 84)\n",
        "        self.linear2 = nn.Linear(84, 10)\n",
        "        self.tanh = nn.Tanh()\n",
        "        self.avgpool = nn.AvgPool2d(kernel_size = 2, stride = 2)\n",
        "\n",
        "    def forward(self, x):\n",
        "        x = self.conv1(x)\n",
        "        x = self.tanh(x)\n",
        "        x = self.avgpool(x)\n",
        "        x = self.conv2(x)\n",
        "        x = self.tanh(x)\n",
        "        x = self.avgpool(x)\n",
        "        x = self.conv3(x)\n",
        "        x = self.tanh(x)\n",
        "        \n",
        "        x = x.reshape(x.shape[0], -1)\n",
        "        x = self.linear1(x)\n",
        "        x = self.tanh(x)\n",
        "        x = self.linear2(x)\n",
        "        return x\n",
        "    "
      ],
      "execution_count": 65,
      "outputs": []
    },
    {
      "cell_type": "markdown",
      "metadata": {
        "id": "hcLWpk5BUUeJ"
      },
      "source": [
        "### Summary of the constructed model"
      ]
    },
    {
      "cell_type": "code",
      "metadata": {
        "colab": {
          "base_uri": "https://localhost:8080/"
        },
        "id": "EEJhglyX-SCO",
        "outputId": "1d7e36b2-6e27-401c-cb1b-01356e704982"
      },
      "source": [
        "from torchsummary import summary\r\n",
        "\r\n",
        "# N_CLASSES = 10\r\n",
        "model = LeNet()\r\n",
        "\r\n",
        "x = torch.randn(64,1,32,32)\r\n",
        "output = model(x)\r\n",
        "\r\n",
        "print(model)\r\n",
        "summary(model, (1,32,32))\r\n",
        "print(\"output.shape : \", output.shape)"
      ],
      "execution_count": 66,
      "outputs": [
        {
          "output_type": "stream",
          "text": [
            "LeNet(\n",
            "  (conv1): Conv2d(1, 6, kernel_size=(5, 5), stride=(1, 1))\n",
            "  (conv2): Conv2d(6, 16, kernel_size=(5, 5), stride=(1, 1))\n",
            "  (conv3): Conv2d(16, 120, kernel_size=(5, 5), stride=(1, 1))\n",
            "  (linear1): Linear(in_features=120, out_features=84, bias=True)\n",
            "  (linear2): Linear(in_features=84, out_features=10, bias=True)\n",
            "  (tanh): Tanh()\n",
            "  (avgpool): AvgPool2d(kernel_size=2, stride=2, padding=0)\n",
            ")\n",
            "----------------------------------------------------------------\n",
            "        Layer (type)               Output Shape         Param #\n",
            "================================================================\n",
            "            Conv2d-1            [-1, 6, 28, 28]             156\n",
            "              Tanh-2            [-1, 6, 28, 28]               0\n",
            "         AvgPool2d-3            [-1, 6, 14, 14]               0\n",
            "            Conv2d-4           [-1, 16, 10, 10]           2,416\n",
            "              Tanh-5           [-1, 16, 10, 10]               0\n",
            "         AvgPool2d-6             [-1, 16, 5, 5]               0\n",
            "            Conv2d-7            [-1, 120, 1, 1]          48,120\n",
            "              Tanh-8            [-1, 120, 1, 1]               0\n",
            "            Linear-9                   [-1, 84]          10,164\n",
            "             Tanh-10                   [-1, 84]               0\n",
            "           Linear-11                   [-1, 10]             850\n",
            "================================================================\n",
            "Total params: 61,706\n",
            "Trainable params: 61,706\n",
            "Non-trainable params: 0\n",
            "----------------------------------------------------------------\n",
            "Input size (MB): 0.00\n",
            "Forward/backward pass size (MB): 0.11\n",
            "Params size (MB): 0.24\n",
            "Estimated Total Size (MB): 0.35\n",
            "----------------------------------------------------------------\n",
            "output.shape :  torch.Size([64, 10])\n"
          ],
          "name": "stdout"
        }
      ]
    },
    {
      "cell_type": "markdown",
      "metadata": {
        "id": "vlU-ycUD_GZm"
      },
      "source": [
        "### Define a loss function and optimizer"
      ]
    },
    {
      "cell_type": "code",
      "metadata": {
        "id": "6B1QjtsF-7Qh"
      },
      "source": [
        "import torch.optim as optim\r\n",
        "\r\n",
        "model = LeNet().to(device)\r\n",
        "criterion = nn.CrossEntropyLoss()\r\n",
        "optimizer = optim.SGD(model.parameters(), lr=0.001, momentum=0.9)"
      ],
      "execution_count": 67,
      "outputs": []
    },
    {
      "cell_type": "markdown",
      "metadata": {
        "id": "yc2HpNlI_KrP"
      },
      "source": [
        "### Train the network"
      ]
    },
    {
      "cell_type": "code",
      "metadata": {
        "colab": {
          "base_uri": "https://localhost:8080/"
        },
        "id": "9hVq8M25_PkB",
        "outputId": "cd012f7b-48ed-484c-bbad-98a4e82e527e"
      },
      "source": [
        "\r\n",
        "for epoch in range(2):  # loop over the dataset multiple times\r\n",
        "\r\n",
        "    running_loss = 0.0\r\n",
        "\r\n",
        "    # train phase\r\n",
        "    model.train()\r\n",
        "\r\n",
        "    for i, data in enumerate(trainloader, 0):\r\n",
        "        # get the inputs; data is a list of [inputs, labels]\r\n",
        "        inputs, labels = data\r\n",
        "\r\n",
        "        # inputs = Variable(inputs.to(device))\r\n",
        "        # labels = Variable(labels.to(device))\r\n",
        "\r\n",
        "        # zero the parameter gradients\r\n",
        "        optimizer.zero_grad()\r\n",
        "\r\n",
        "        # forward + backward + optimize\r\n",
        "        outputs = model(inputs)\r\n",
        "        loss = criterion(outputs, labels)\r\n",
        "        loss.backward()\r\n",
        "        optimizer.step()\r\n",
        "\r\n",
        "        # print statistics\r\n",
        "        running_loss += loss.item()\r\n",
        "        if i % 2000 == 1999:    # print every 2000 mini-batches\r\n",
        "            print('[%d, %5d] loss: %.3f' %\r\n",
        "                  (epoch + 1, i + 1, running_loss / 2000))\r\n",
        "            running_loss = 0.0\r\n",
        "\r\n",
        "print('Finished Training')"
      ],
      "execution_count": 84,
      "outputs": [
        {
          "output_type": "stream",
          "text": [
            "Finished Training\n"
          ],
          "name": "stdout"
        }
      ]
    },
    {
      "cell_type": "markdown",
      "metadata": {
        "id": "Y6N_zWjiVSqz"
      },
      "source": [
        "### Plot few samples of labels (groundtruth)"
      ]
    },
    {
      "cell_type": "code",
      "metadata": {
        "pycharm": {
          "name": "#%%\n"
        },
        "colab": {
          "base_uri": "https://localhost:8080/",
          "height": 286
        },
        "id": "pNiz7tSS6jz2",
        "outputId": "77a2842a-067f-4afd-f88a-54423e2ea257"
      },
      "source": [
        "dataiter = iter(valloader)\n",
        "images, labels = dataiter.next()\n",
        "\n",
        "# print images\n",
        "imshow(torchvision.utils.make_grid(images))\n",
        "print('GroundTruth: ', ' '.join('%2s' % classes[labels[j]] for j in range(8)))"
      ],
      "execution_count": 85,
      "outputs": [
        {
          "output_type": "display_data",
          "data": {
            "image/png": "[encoded data removed]",
            "text/plain": [
              "<Figure size 432x288 with 1 Axes>"
            ]
          },
          "metadata": {
            "tags": [],
            "needs_background": "light"
          }
        },
        {
          "output_type": "stream",
          "text": [
            "GroundTruth:   3  0  0  5  3  8  9  9\n"
          ],
          "name": "stdout"
        }
      ]
    },
    {
      "cell_type": "markdown",
      "metadata": {
        "id": "4VFcid1JVitd"
      },
      "source": [
        "### Make a prediction for few samples\r\n",
        "\r\n",
        "We take the images output from previous cell and feed them into our model to get some predictions.\r\n",
        "\r\n",
        "The outputs are basically the index of the highest valued energy from the `outputs` variable"
      ]
    },
    {
      "cell_type": "code",
      "metadata": {
        "colab": {
          "base_uri": "https://localhost:8080/"
        },
        "id": "-PdrTFz4Q7Py",
        "outputId": "f9c217e4-649a-4667-e2fc-bad473fbec1e"
      },
      "source": [
        "outputs = model(images)\r\n",
        "\r\n",
        "_, predicted = torch.max(outputs, 1)\r\n",
        "\r\n",
        "print('Predicted: ', ' '.join('%2s' % classes[predicted[j]]\r\n",
        "                              for j in range(8)))"
      ],
      "execution_count": 90,
      "outputs": [
        {
          "output_type": "stream",
          "text": [
            "Predicted:   7  8  6  7  1  3  8  4\n"
          ],
          "name": "stdout"
        }
      ]
    },
    {
      "cell_type": "markdown",
      "metadata": {
        "id": "y8jUM9wGWkmG"
      },
      "source": [
        "### Testing on the complete dataset"
      ]
    },
    {
      "cell_type": "code",
      "metadata": {
        "colab": {
          "base_uri": "https://localhost:8080/"
        },
        "id": "FU7yS7CbRLp8",
        "outputId": "00549b68-1d6a-4770-b7dc-0a60c4a36c99"
      },
      "source": [
        "correct = 0\r\n",
        "total = 0\r\n",
        "with torch.no_grad():\r\n",
        "    for data in valloader:\r\n",
        "        images, labels = data\r\n",
        "        outputs = model(images)\r\n",
        "        _, predicted = torch.max(outputs.data, 1)\r\n",
        "        total += labels.size(0)\r\n",
        "        correct += (predicted == labels).sum().item()\r\n",
        "\r\n",
        "print('Accuracy of the network on the 10000 test images: %d %%' % (\r\n",
        "    100 * correct / total))"
      ],
      "execution_count": 87,
      "outputs": [
        {
          "output_type": "stream",
          "text": [
            "Accuracy of the network on the 10000 test images: 96 %\n"
          ],
          "name": "stdout"
        }
      ]
    },
    {
      "cell_type": "code",
      "metadata": {
        "colab": {
          "base_uri": "https://localhost:8080/"
        },
        "id": "nk5Vd5CJRpcr",
        "outputId": "5e41f518-a5f1-498c-950a-052db8d9d6c2"
      },
      "source": [
        "class_correct = list(0. for i in range(10))\r\n",
        "class_total = list(0. for i in range(10))\r\n",
        "with torch.no_grad():\r\n",
        "    for data in valloader:\r\n",
        "        images, labels = data\r\n",
        "        outputs = model(images)\r\n",
        "        _, predicted = torch.max(outputs, 1)\r\n",
        "        c = (predicted == labels).squeeze()\r\n",
        "        for i in range(4):\r\n",
        "            label = labels[i]\r\n",
        "            class_correct[label] += c[i].item()\r\n",
        "            class_total[label] += 1\r\n",
        "\r\n",
        "\r\n",
        "for i in range(10):\r\n",
        "    print('Accuracy of %5s : %2d %%' % (\r\n",
        "        classes[i], 100 * class_correct[i] / class_total[i]))"
      ],
      "execution_count": 88,
      "outputs": [
        {
          "output_type": "stream",
          "text": [
            "Accuracy of     0 : 98 %\n",
            "Accuracy of     1 : 98 %\n",
            "Accuracy of     2 : 98 %\n",
            "Accuracy of     3 : 98 %\n",
            "Accuracy of     4 : 95 %\n",
            "Accuracy of     5 : 98 %\n",
            "Accuracy of     6 : 98 %\n",
            "Accuracy of     7 : 100 %\n",
            "Accuracy of     8 : 95 %\n",
            "Accuracy of     9 : 94 %\n"
          ],
          "name": "stdout"
        }
      ]
    },
    {
      "cell_type": "markdown",
      "metadata": {
        "collapsed": false,
        "pycharm": {
          "name": "#%% md\n"
        },
        "id": "RWaT5NMr6jz2"
      },
      "source": [
        "TODO:\n",
        "* Make a table of different experiments\n",
        "* Add proper comments\n",
        "\n",
        "\n"
      ]
    }
  ]
}